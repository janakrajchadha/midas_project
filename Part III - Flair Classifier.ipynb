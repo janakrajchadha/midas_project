{
 "cells": [
  {
   "cell_type": "code",
   "execution_count": 508,
   "metadata": {
    "collapsed": true
   },
   "outputs": [],
   "source": [
    "import numpy as np\n",
    "import pandas as pd\n",
    "import xgboost as xgb\n",
    "from sklearn import svm, ensemble\n",
    "from sklearn.model_selection import train_test_split\n",
    "from sklearn.preprocessing import OneHotEncoder, LabelEncoder, StandardScaler\n",
    "from sklearn.metrics import accuracy_score, confusion_matrix, plot_confusion_matrix\n",
    "import matplotlib.pyplot as plt"
   ]
  },
  {
   "cell_type": "code",
   "execution_count": 2,
   "metadata": {
    "collapsed": true
   },
   "outputs": [],
   "source": [
    "reddit_data = pd.read_excel('cleaned_reddit_india.xlsx')"
   ]
  },
  {
   "cell_type": "markdown",
   "metadata": {},
   "source": [
    "### Initial classifier approach using numerical columns - both continuous and categorical"
   ]
  },
  {
   "cell_type": "code",
   "execution_count": 5,
   "metadata": {
    "collapsed": true
   },
   "outputs": [],
   "source": [
    "feature_cols = ('is_orig', 'n_comm', 'total_awards', 'up_count', 'upvote_rat', 'calc_down_count')"
   ]
  },
  {
   "cell_type": "code",
   "execution_count": 31,
   "metadata": {
    "collapsed": true
   },
   "outputs": [],
   "source": [
    "mod_flair_vc = reddit_data.mod_flair.value_counts()"
   ]
  },
  {
   "cell_type": "markdown",
   "metadata": {},
   "source": [
    "### Since most flairs have very little data and creating a classifier with way too many classes would result in poor results, all flairs with less than 10 entries have been re-classsified as other"
   ]
  },
  {
   "cell_type": "code",
   "execution_count": 37,
   "metadata": {
    "collapsed": true
   },
   "outputs": [],
   "source": [
    "reddit_data['double_mod_flair'] = np.where(reddit_data['mod_flair'].isin(mod_flair_vc.index[mod_flair_vc>=10]), reddit_data['mod_flair'], 'other')"
   ]
  },
  {
   "cell_type": "code",
   "execution_count": 38,
   "metadata": {},
   "outputs": [
    {
     "data": {
      "text/plain": [
       "Non-Political                109\n",
       "Coronavirus                  108\n",
       "Politics                      76\n",
       "AskIndia                      31\n",
       "[R]eddiquette                 10\n",
       "Sports                         8\n",
       "Photography                    8\n",
       "Science/Technology             8\n",
       "Policy/Economy                 7\n",
       "r/all                          4\n",
       "Business/Finance               3\n",
       "Food                           3\n",
       "other                          2\n",
       "Scheduled                      2\n",
       "CAA-NRC                        2\n",
       "Unverified                     2\n",
       "| Not specific to India |      1\n",
       "Totally real                   1\n",
       "Official Sadness Thread        1\n",
       "Demonetization                 1\n",
       "Zoke Tyme                      1\n",
       "Name: mod_flair, dtype: int64"
      ]
     },
     "execution_count": 38,
     "metadata": {},
     "output_type": "execute_result"
    }
   ],
   "source": [
    "mod_flair_vc"
   ]
  },
  {
   "cell_type": "markdown",
   "metadata": {},
   "source": [
    "### This brings down the number of flairs from 15+ to 6, a more manageable value"
   ]
  },
  {
   "cell_type": "code",
   "execution_count": 39,
   "metadata": {},
   "outputs": [
    {
     "data": {
      "text/plain": [
       "Non-Political    109\n",
       "Coronavirus      108\n",
       "Politics          76\n",
       "other             54\n",
       "AskIndia          31\n",
       "[R]eddiquette     10\n",
       "Name: double_mod_flair, dtype: int64"
      ]
     },
     "execution_count": 39,
     "metadata": {},
     "output_type": "execute_result"
    }
   ],
   "source": [
    "reddit_data.double_mod_flair.value_counts()"
   ]
  },
  {
   "cell_type": "code",
   "execution_count": 22,
   "metadata": {
    "collapsed": true
   },
   "outputs": [],
   "source": [
    "reddit_data.mod_flair.fillna('other', inplace=True)"
   ]
  },
  {
   "cell_type": "markdown",
   "metadata": {},
   "source": [
    "### Splitting the numerical data and the target using an 80/20 split"
   ]
  },
  {
   "cell_type": "code",
   "execution_count": 565,
   "metadata": {
    "collapsed": true
   },
   "outputs": [],
   "source": [
    "X_train, X_test, y_train, y_test = train_test_split(reddit_data[list(feature_cols)], reddit_data.double_mod_flair, test_size=0.2)"
   ]
  },
  {
   "cell_type": "markdown",
   "metadata": {},
   "source": [
    "### Trying out a basic Random Forest Classifier on this data"
   ]
  },
  {
   "cell_type": "code",
   "execution_count": 566,
   "metadata": {},
   "outputs": [
    {
     "data": {
      "text/plain": [
       "RandomForestClassifier(bootstrap=True, ccp_alpha=0.0, class_weight=None,\n",
       "                       criterion='gini', max_depth=None, max_features='auto',\n",
       "                       max_leaf_nodes=None, max_samples=None,\n",
       "                       min_impurity_decrease=0.0, min_impurity_split=None,\n",
       "                       min_samples_leaf=1, min_samples_split=2,\n",
       "                       min_weight_fraction_leaf=0.0, n_estimators=100,\n",
       "                       n_jobs=None, oob_score=False, random_state=None,\n",
       "                       verbose=0, warm_start=False)"
      ]
     },
     "execution_count": 566,
     "metadata": {},
     "output_type": "execute_result"
    }
   ],
   "source": [
    "rf_clf = ensemble.RandomForestClassifier()\n",
    "rf_clf.fit(X_train, y_train)"
   ]
  },
  {
   "cell_type": "code",
   "execution_count": 568,
   "metadata": {},
   "outputs": [
    {
     "data": {
      "text/plain": [
       "0.9967741935483871"
      ]
     },
     "execution_count": 568,
     "metadata": {},
     "output_type": "execute_result"
    }
   ],
   "source": [
    "accuracy_score(y_train, rf_clf.predict(X_train))"
   ]
  },
  {
   "cell_type": "code",
   "execution_count": 569,
   "metadata": {},
   "outputs": [
    {
     "data": {
      "text/plain": [
       "0.5128205128205128"
      ]
     },
     "execution_count": 569,
     "metadata": {},
     "output_type": "execute_result"
    }
   ],
   "source": [
    "accuracy_score(y_test, rf_clf.predict(X_test))"
   ]
  },
  {
   "cell_type": "markdown",
   "metadata": {},
   "source": [
    "### While the model has overfit on the training data, the performance on the test set isn't as good"
   ]
  },
  {
   "cell_type": "code",
   "execution_count": 50,
   "metadata": {},
   "outputs": [
    {
     "data": {
      "text/plain": [
       "Index(['AskIndia', 'Coronavirus', 'Non-Political', 'Politics', '[R]eddiquette',\n",
       "       'other'],\n",
       "      dtype='object')"
      ]
     },
     "execution_count": 50,
     "metadata": {},
     "output_type": "execute_result"
    }
   ],
   "source": [
    "y_test.value_counts().index.sort_values()"
   ]
  },
  {
   "cell_type": "code",
   "execution_count": 64,
   "metadata": {},
   "outputs": [
    {
     "data": {
      "text/plain": [
       "array([[5, 0, 0, 0, 0, 1],\n",
       "       [2, 7, 2, 3, 0, 2],\n",
       "       [0, 2, 9, 2, 0, 2],\n",
       "       [0, 3, 2, 6, 0, 0],\n",
       "       [0, 1, 1, 2, 0, 0],\n",
       "       [1, 1, 4, 0, 0, 1]], dtype=int64)"
      ]
     },
     "execution_count": 64,
     "metadata": {},
     "output_type": "execute_result"
    }
   ],
   "source": [
    "confusion_matrix(y_test, rf_clf.predict(X_test))"
   ]
  },
  {
   "cell_type": "code",
   "execution_count": 493,
   "metadata": {
    "collapsed": true
   },
   "outputs": [],
   "source": [
    "plt.clf()"
   ]
  },
  {
   "cell_type": "code",
   "execution_count": 504,
   "metadata": {},
   "outputs": [
    {
     "data": {
      "text/plain": [
       "<Figure size 864x576 with 0 Axes>"
      ]
     },
     "metadata": {},
     "output_type": "display_data"
    },
    {
     "data": {
      "text/plain": [
       "<Figure size 864x576 with 0 Axes>"
      ]
     },
     "metadata": {},
     "output_type": "display_data"
    },
    {
     "data": {
      "text/plain": [
       "<Figure size 864x576 with 0 Axes>"
      ]
     },
     "metadata": {},
     "output_type": "display_data"
    },
    {
     "data": {
      "image/png": "[encoded data removed]",
      "text/plain": [
       "<Figure size 432x288 with 2 Axes>"
      ]
     },
     "metadata": {},
     "output_type": "display_data"
    }
   ],
   "source": [
    "plt.figure(figsize=(12, 8))\n",
    "plot_confusion_matrix(rf_clf, X_test, y_test, normalize='true')\n",
    "plt.xticks(rotation=45)\n",
    "plt.show()"
   ]
  },
  {
   "cell_type": "markdown",
   "metadata": {},
   "source": [
    "### We can clearly see that the classes with the higher number of examples have a better score"
   ]
  },
  {
   "cell_type": "markdown",
   "metadata": {},
   "source": [
    "### Trying out another classifier, SVM classifier with RBF kernel and default config"
   ]
  },
  {
   "cell_type": "code",
   "execution_count": 570,
   "metadata": {
    "collapsed": true
   },
   "outputs": [],
   "source": [
    "scaler = StandardScaler()\n",
    "X_train_tnsf = scaler.fit_transform(X_train[[ 'n_comm', 'total_awards', 'up_count', 'upvote_rat', 'calc_down_count']])\n",
    "X_test_tnsf = scaler.transform(X_test[[ 'n_comm', 'total_awards', 'up_count', 'upvote_rat', 'calc_down_count']])"
   ]
  },
  {
   "cell_type": "code",
   "execution_count": 571,
   "metadata": {
    "collapsed": true
   },
   "outputs": [],
   "source": [
    "X_train_tnsf2 = np.concatenate((X_train_tnsf, np.array(X_train[['is_orig']])), axis=1)\n",
    "X_test_tnsf2 = np.concatenate((X_test_tnsf, np.array(X_test[['is_orig']])), axis=1)"
   ]
  },
  {
   "cell_type": "code",
   "execution_count": 572,
   "metadata": {},
   "outputs": [
    {
     "data": {
      "text/plain": [
       "SVC(C=1.0, break_ties=False, cache_size=200, class_weight=None, coef0=0.0,\n",
       "    decision_function_shape='ovr', degree=3, gamma='scale', kernel='rbf',\n",
       "    max_iter=-1, probability=False, random_state=None, shrinking=True,\n",
       "    tol=0.001, verbose=False)"
      ]
     },
     "execution_count": 572,
     "metadata": {},
     "output_type": "execute_result"
    }
   ],
   "source": [
    "svm_clf = svm.SVC()\n",
    "svm_clf.fit(X_train_tnsf2, y_train)"
   ]
  },
  {
   "cell_type": "code",
   "execution_count": 573,
   "metadata": {},
   "outputs": [
    {
     "data": {
      "text/plain": [
       "0.5290322580645161"
      ]
     },
     "execution_count": 573,
     "metadata": {},
     "output_type": "execute_result"
    }
   ],
   "source": [
    "accuracy_score(y_train, svm_clf.predict(X_train_tnsf2))"
   ]
  },
  {
   "cell_type": "code",
   "execution_count": 574,
   "metadata": {},
   "outputs": [
    {
     "data": {
      "text/plain": [
       "0.41025641025641024"
      ]
     },
     "execution_count": 574,
     "metadata": {},
     "output_type": "execute_result"
    }
   ],
   "source": [
    "accuracy_score(y_test, svm_clf.predict(X_test_tnsf2))"
   ]
  },
  {
   "cell_type": "markdown",
   "metadata": {},
   "source": [
    "### As we can see, the SVM classifier isn't performing as well on this data\n",
    "While the test score is quite close to the training score, it is still quite low"
   ]
  },
  {
   "cell_type": "markdown",
   "metadata": {},
   "source": [
    " \n",
    " \n",
    " "
   ]
  },
  {
   "cell_type": "markdown",
   "metadata": {},
   "source": [
    "# Using text data as features"
   ]
  },
  {
   "cell_type": "markdown",
   "metadata": {},
   "source": [
    "### While we have tried out the numerical features available, the text features are more directly related to how the flair is decided and assigned to the post. Also, the numerical columns for a post can vary quite a bit over time i.e. the number of comments, upvotes can significantly change as it is discussed more. However, the initial title and initial comments are less likely to change over time. Thus, it makes intuitive sense to try out text classifiers"
   ]
  },
  {
   "cell_type": "markdown",
   "metadata": {},
   "source": [
    "#### Processing text with a basic Tfidf vectorizer followed by simple classifiers as tried above"
   ]
  },
  {
   "cell_type": "code",
   "execution_count": 105,
   "metadata": {
    "collapsed": true
   },
   "outputs": [],
   "source": [
    "from sklearn.feature_extraction.text import TfidfVectorizer\n",
    "from sklearn.pipeline import Pipeline"
   ]
  },
  {
   "cell_type": "code",
   "execution_count": 108,
   "metadata": {
    "collapsed": true
   },
   "outputs": [],
   "source": [
    "text_rf_clf = Pipeline([('tfidf', TfidfVectorizer()), ('clf', ensemble.RandomForestClassifier())])"
   ]
  },
  {
   "cell_type": "code",
   "execution_count": 623,
   "metadata": {
    "collapsed": true
   },
   "outputs": [],
   "source": [
    "reddit_data.clean_comments.fillna('', inplace=True)\n",
    "reddit_data.clean_title.fillna('', inplace=True)\n",
    "reddit_data.clean_title_text.fillna('', inplace=True)\n",
    "reddit_data['all_text'] = reddit_data.clean_comments.str.cat(reddit_data['clean_title'], sep=' ')\n",
    "reddit_data['all_text'] = reddit_data.all_text.str.cat(reddit_data['clean_title_text'], sep=' ')\n",
    "reddit_data.all_text.fillna('', inplace=True)"
   ]
  },
  {
   "cell_type": "code",
   "execution_count": 624,
   "metadata": {
    "collapsed": true
   },
   "outputs": [],
   "source": [
    "text_X_train, text_X_test, text_y_train, text_y_test = train_test_split(reddit_data.all_text, reddit_data.mod_flair, test_size=0.2)"
   ]
  },
  {
   "cell_type": "code",
   "execution_count": 625,
   "metadata": {},
   "outputs": [
    {
     "data": {
      "text/plain": [
       "Pipeline(memory=None,\n",
       "         steps=[('tfidf',\n",
       "                 TfidfVectorizer(analyzer='word', binary=False,\n",
       "                                 decode_error='strict',\n",
       "                                 dtype=<class 'numpy.float64'>,\n",
       "                                 encoding='utf-8', input='content',\n",
       "                                 lowercase=True, max_df=1.0, max_features=None,\n",
       "                                 min_df=1, ngram_range=(1, 1), norm='l2',\n",
       "                                 preprocessor=None, smooth_idf=True,\n",
       "                                 stop_words=None, strip_accents=None,\n",
       "                                 sublinear_tf=False,\n",
       "                                 token_pattern='...\n",
       "                 RandomForestClassifier(bootstrap=True, ccp_alpha=0.0,\n",
       "                                        class_weight=None, criterion='gini',\n",
       "                                        max_depth=None, max_features='auto',\n",
       "                                        max_leaf_nodes=None, max_samples=None,\n",
       "                                        min_impurity_decrease=0.0,\n",
       "                                        min_impurity_split=None,\n",
       "                                        min_samples_leaf=1, min_samples_split=2,\n",
       "                                        min_weight_fraction_leaf=0.0,\n",
       "                                        n_estimators=100, n_jobs=None,\n",
       "                                        oob_score=False, random_state=None,\n",
       "                                        verbose=0, warm_start=False))],\n",
       "         verbose=False)"
      ]
     },
     "execution_count": 625,
     "metadata": {},
     "output_type": "execute_result"
    }
   ],
   "source": [
    "text_rf_clf.fit(text_X_train, text_y_train)"
   ]
  },
  {
   "cell_type": "code",
   "execution_count": 626,
   "metadata": {},
   "outputs": [
    {
     "data": {
      "text/plain": [
       "1.0"
      ]
     },
     "execution_count": 626,
     "metadata": {},
     "output_type": "execute_result"
    }
   ],
   "source": [
    "accuracy_score(text_y_train, text_rf_clf.predict(text_X_train))"
   ]
  },
  {
   "cell_type": "code",
   "execution_count": 627,
   "metadata": {},
   "outputs": [
    {
     "data": {
      "text/plain": [
       "0.46153846153846156"
      ]
     },
     "execution_count": 627,
     "metadata": {},
     "output_type": "execute_result"
    }
   ],
   "source": [
    "accuracy_score(text_y_test, text_rf_clf.predict(text_X_test))"
   ]
  },
  {
   "cell_type": "markdown",
   "metadata": {},
   "source": [
    "### Again, we face the problem of overfitting on the training data, and not too great results on the test data"
   ]
  },
  {
   "cell_type": "code",
   "execution_count": 628,
   "metadata": {
    "collapsed": true
   },
   "outputs": [],
   "source": [
    "text_svm_clf = Pipeline([('tfidf', TfidfVectorizer()), ('clf', svm.SVC())])"
   ]
  },
  {
   "cell_type": "code",
   "execution_count": 629,
   "metadata": {},
   "outputs": [
    {
     "data": {
      "text/plain": [
       "Pipeline(memory=None,\n",
       "         steps=[('tfidf',\n",
       "                 TfidfVectorizer(analyzer='word', binary=False,\n",
       "                                 decode_error='strict',\n",
       "                                 dtype=<class 'numpy.float64'>,\n",
       "                                 encoding='utf-8', input='content',\n",
       "                                 lowercase=True, max_df=1.0, max_features=None,\n",
       "                                 min_df=1, ngram_range=(1, 1), norm='l2',\n",
       "                                 preprocessor=None, smooth_idf=True,\n",
       "                                 stop_words=None, strip_accents=None,\n",
       "                                 sublinear_tf=False,\n",
       "                                 token_pattern='(?u)\\\\b\\\\w\\\\w+\\\\b',\n",
       "                                 tokenizer=None, use_idf=True,\n",
       "                                 vocabulary=None)),\n",
       "                ('clf',\n",
       "                 SVC(C=1.0, break_ties=False, cache_size=200, class_weight=None,\n",
       "                     coef0=0.0, decision_function_shape='ovr', degree=3,\n",
       "                     gamma='scale', kernel='rbf', max_iter=-1,\n",
       "                     probability=False, random_state=None, shrinking=True,\n",
       "                     tol=0.001, verbose=False))],\n",
       "         verbose=False)"
      ]
     },
     "execution_count": 629,
     "metadata": {},
     "output_type": "execute_result"
    }
   ],
   "source": [
    "text_svm_clf.fit(text_X_train, text_y_train)"
   ]
  },
  {
   "cell_type": "code",
   "execution_count": 630,
   "metadata": {},
   "outputs": [
    {
     "data": {
      "text/plain": [
       "0.8580645161290322"
      ]
     },
     "execution_count": 630,
     "metadata": {},
     "output_type": "execute_result"
    }
   ],
   "source": [
    "accuracy_score(text_y_train, text_svm_clf.predict(text_X_train))"
   ]
  },
  {
   "cell_type": "code",
   "execution_count": 631,
   "metadata": {},
   "outputs": [
    {
     "data": {
      "text/plain": [
       "0.5384615384615384"
      ]
     },
     "execution_count": 631,
     "metadata": {},
     "output_type": "execute_result"
    }
   ],
   "source": [
    "accuracy_score(text_y_test, text_svm_clf.predict(text_X_test))"
   ]
  },
  {
   "cell_type": "markdown",
   "metadata": {},
   "source": [
    "### While this SVM model has better fit on the training data, the performance on the test set is only slightly better"
   ]
  },
  {
   "cell_type": "markdown",
   "metadata": {},
   "source": [
    "  "
   ]
  },
  {
   "cell_type": "markdown",
   "metadata": {},
   "source": [
    "## For trying out more advanced deep neural network based models, additional data is always better since deep learning models require higher amounts of data than other models"
   ]
  },
  {
   "cell_type": "markdown",
   "metadata": {},
   "source": [
    "### Using additional data"
   ]
  },
  {
   "cell_type": "code",
   "execution_count": 261,
   "metadata": {
    "collapsed": true
   },
   "outputs": [],
   "source": [
    "reddit_data_v2 = pd.read_excel('cleaned_reddit_india_v2.xlsx')"
   ]
  },
  {
   "cell_type": "code",
   "execution_count": 262,
   "metadata": {
    "collapsed": true
   },
   "outputs": [],
   "source": [
    "mod_flair_v2_vc = reddit_data_v2.mod_flair.value_counts()"
   ]
  },
  {
   "cell_type": "markdown",
   "metadata": {},
   "source": [
    "### Modifying flairs, classifying as other where count < 60"
   ]
  },
  {
   "cell_type": "code",
   "execution_count": 269,
   "metadata": {
    "collapsed": true
   },
   "outputs": [],
   "source": [
    "reddit_data_v2['double_mod_flair'] = np.where(reddit_data_v2['mod_flair'].isin(mod_flair_v2_vc.index[mod_flair_v2_vc>=60]), reddit_data_v2['mod_flair'], 'Other')"
   ]
  },
  {
   "cell_type": "code",
   "execution_count": 270,
   "metadata": {},
   "outputs": [
    {
     "data": {
      "text/plain": [
       "Politics                         401\n",
       "Coronavirus                      401\n",
       "Non-Political                    401\n",
       "AskIndia                         144\n",
       "Policy/Economy                    70\n",
       "Business/Finance                  55\n",
       "Photography                       55\n",
       "Sports                            36\n",
       "[R]eddiquette                     34\n",
       "Science/Technology                26\n",
       "Food                              19\n",
       "Unverified                        16\n",
       "CAA-NRC                           14\n",
       "Scheduled                         12\n",
       "r/all                              5\n",
       "Demonetization                     2\n",
       "AMA                                2\n",
       "Policy & Economy                   2\n",
       "Lifehacks                          1\n",
       "Policy/Economy -2017 Article       1\n",
       "Zoke Tyme                          1\n",
       "Goal Achieved!!!                   1\n",
       "Original Comics                    1\n",
       "| Not specific to India |          1\n",
       "Totally real                       1\n",
       "Misleading                         1\n",
       "Politics Source in comments        1\n",
       "Entertainment                      1\n",
       "Misleading Headline                1\n",
       "OC                                 1\n",
       "40 Martyrs                         1\n",
       "Official Sadness Thread            1\n",
       "On Internet Shutdowns              1\n",
       "Name: mod_flair, dtype: int64"
      ]
     },
     "execution_count": 270,
     "metadata": {},
     "output_type": "execute_result"
    }
   ],
   "source": [
    "mod_flair_v2_vc"
   ]
  },
  {
   "cell_type": "code",
   "execution_count": 271,
   "metadata": {},
   "outputs": [
    {
     "data": {
      "text/plain": [
       "Non-Political     401\n",
       "Politics          401\n",
       "Coronavirus       401\n",
       "Other             303\n",
       "AskIndia          144\n",
       "Policy/Economy     70\n",
       "Name: double_mod_flair, dtype: int64"
      ]
     },
     "execution_count": 271,
     "metadata": {},
     "output_type": "execute_result"
    }
   ],
   "source": [
    "reddit_data_v2.double_mod_flair.value_counts()"
   ]
  },
  {
   "cell_type": "markdown",
   "metadata": {},
   "source": [
    "## Before trying out NN models, we'll also try out the other models with this additional data"
   ]
  },
  {
   "cell_type": "code",
   "execution_count": 575,
   "metadata": {
    "collapsed": true
   },
   "outputs": [],
   "source": [
    "X_train, X_test, y_train, y_test = train_test_split(reddit_data_v2[list(feature_cols)], reddit_data_v2.double_mod_flair, test_size=0.2)"
   ]
  },
  {
   "cell_type": "code",
   "execution_count": 576,
   "metadata": {},
   "outputs": [
    {
     "data": {
      "text/plain": [
       "RandomForestClassifier(bootstrap=True, ccp_alpha=0.0, class_weight=None,\n",
       "                       criterion='gini', max_depth=None, max_features='auto',\n",
       "                       max_leaf_nodes=None, max_samples=None,\n",
       "                       min_impurity_decrease=0.0, min_impurity_split=None,\n",
       "                       min_samples_leaf=1, min_samples_split=2,\n",
       "                       min_weight_fraction_leaf=0.0, n_estimators=100,\n",
       "                       n_jobs=None, oob_score=False, random_state=None,\n",
       "                       verbose=0, warm_start=False)"
      ]
     },
     "execution_count": 576,
     "metadata": {},
     "output_type": "execute_result"
    }
   ],
   "source": [
    "rf_clf = ensemble.RandomForestClassifier()\n",
    "rf_clf.fit(X_train, y_train)"
   ]
  },
  {
   "cell_type": "code",
   "execution_count": 577,
   "metadata": {},
   "outputs": [
    {
     "data": {
      "text/plain": [
       "0.9832848837209303"
      ]
     },
     "execution_count": 577,
     "metadata": {},
     "output_type": "execute_result"
    }
   ],
   "source": [
    "accuracy_score(y_train, rf_clf.predict(X_train))"
   ]
  },
  {
   "cell_type": "code",
   "execution_count": 578,
   "metadata": {},
   "outputs": [
    {
     "data": {
      "text/plain": [
       "0.4738372093023256"
      ]
     },
     "execution_count": 578,
     "metadata": {},
     "output_type": "execute_result"
    }
   ],
   "source": [
    "accuracy_score(y_test, rf_clf.predict(X_test))"
   ]
  },
  {
   "cell_type": "markdown",
   "metadata": {},
   "source": [
    "### The scenario didn't change much for the Random Forest Classifier"
   ]
  },
  {
   "cell_type": "code",
   "execution_count": 579,
   "metadata": {},
   "outputs": [
    {
     "data": {
      "text/plain": [
       "<Figure size 864x576 with 0 Axes>"
      ]
     },
     "metadata": {},
     "output_type": "display_data"
    },
    {
     "data": {
      "image/png": "[encoded data removed]",
      "text/plain": [
       "<Figure size 432x288 with 2 Axes>"
      ]
     },
     "metadata": {},
     "output_type": "display_data"
    }
   ],
   "source": [
    "plt.figure(figsize=(12, 8))\n",
    "plot_confusion_matrix(rf_clf, X_test, y_test, normalize='true')\n",
    "plt.xticks(rotation=45)\n",
    "plt.show()"
   ]
  },
  {
   "cell_type": "markdown",
   "metadata": {},
   "source": [
    "## A clear observation here is that most policy columns are getting classified as Coronavirus which is an issue"
   ]
  },
  {
   "cell_type": "code",
   "execution_count": 581,
   "metadata": {
    "collapsed": true
   },
   "outputs": [],
   "source": [
    "scaler = StandardScaler()\n",
    "X_train_tnsf = scaler.fit_transform(X_train[[ 'n_comm', 'total_awards', 'up_count', 'upvote_rat', 'calc_down_count']])\n",
    "X_test_tnsf = scaler.transform(X_test[[ 'n_comm', 'total_awards', 'up_count', 'upvote_rat', 'calc_down_count']])"
   ]
  },
  {
   "cell_type": "code",
   "execution_count": 582,
   "metadata": {
    "collapsed": true
   },
   "outputs": [],
   "source": [
    "X_train_tnsf2 = np.concatenate((X_train_tnsf, np.array(X_train[['is_orig']])), axis=1)\n",
    "X_test_tnsf2 = np.concatenate((X_test_tnsf, np.array(X_test[['is_orig']])), axis=1)"
   ]
  },
  {
   "cell_type": "code",
   "execution_count": 583,
   "metadata": {},
   "outputs": [
    {
     "data": {
      "text/plain": [
       "SVC(C=1.0, break_ties=False, cache_size=200, class_weight=None, coef0=0.0,\n",
       "    decision_function_shape='ovr', degree=3, gamma='scale', kernel='rbf',\n",
       "    max_iter=-1, probability=False, random_state=None, shrinking=True,\n",
       "    tol=0.001, verbose=False)"
      ]
     },
     "execution_count": 583,
     "metadata": {},
     "output_type": "execute_result"
    }
   ],
   "source": [
    "svm_clf = svm.SVC()\n",
    "svm_clf.fit(X_train_tnsf2, y_train)"
   ]
  },
  {
   "cell_type": "code",
   "execution_count": 586,
   "metadata": {},
   "outputs": [
    {
     "data": {
      "text/plain": [
       "0.4789244186046512"
      ]
     },
     "execution_count": 586,
     "metadata": {},
     "output_type": "execute_result"
    }
   ],
   "source": [
    "accuracy_score(y_train, svm_clf.predict(X_train_tnsf2))"
   ]
  },
  {
   "cell_type": "code",
   "execution_count": 587,
   "metadata": {},
   "outputs": [
    {
     "data": {
      "text/plain": [
       "0.40988372093023256"
      ]
     },
     "execution_count": 587,
     "metadata": {},
     "output_type": "execute_result"
    }
   ],
   "source": [
    "accuracy_score(y_test, svm_clf.predict(X_test_tnsf2))"
   ]
  },
  {
   "cell_type": "markdown",
   "metadata": {},
   "source": [
    "## The situation with SVM didn't change much either"
   ]
  },
  {
   "cell_type": "code",
   "execution_count": 592,
   "metadata": {},
   "outputs": [
    {
     "data": {
      "text/plain": [
       "XGBClassifier(base_score=0.5, booster=None, colsample_bylevel=1,\n",
       "              colsample_bynode=1, colsample_bytree=1, gamma=0, gpu_id=-1,\n",
       "              importance_type='gain', interaction_constraints=None,\n",
       "              learning_rate=0.300000012, max_delta_step=0, max_depth=6,\n",
       "              min_child_weight=1, missing=nan, monotone_constraints=None,\n",
       "              n_estimators=100, n_jobs=0, num_parallel_tree=1,\n",
       "              objective='multi:softprob', random_state=0, reg_alpha=0,\n",
       "              reg_lambda=1, scale_pos_weight=None, subsample=1,\n",
       "              tree_method=None, validate_parameters=False, verbosity=None)"
      ]
     },
     "execution_count": 592,
     "metadata": {},
     "output_type": "execute_result"
    }
   ],
   "source": [
    "xgb_clf = xgb.XGBClassifier()\n",
    "xgb_clf.fit(X_train, y_train)"
   ]
  },
  {
   "cell_type": "code",
   "execution_count": 593,
   "metadata": {},
   "outputs": [
    {
     "data": {
      "text/plain": [
       "0.9578488372093024"
      ]
     },
     "execution_count": 593,
     "metadata": {},
     "output_type": "execute_result"
    }
   ],
   "source": [
    "accuracy_score(y_train, xgb_clf.predict(X_train))"
   ]
  },
  {
   "cell_type": "code",
   "execution_count": 594,
   "metadata": {},
   "outputs": [
    {
     "data": {
      "text/plain": [
       "0.49709302325581395"
      ]
     },
     "execution_count": 594,
     "metadata": {},
     "output_type": "execute_result"
    }
   ],
   "source": [
    "accuracy_score(y_test, xgb_clf.predict(X_test))"
   ]
  },
  {
   "cell_type": "markdown",
   "metadata": {},
   "source": [
    "### Even XGBoost models don't seem to be improving things by a lot"
   ]
  },
  {
   "cell_type": "code",
   "execution_count": 287,
   "metadata": {
    "collapsed": true
   },
   "outputs": [],
   "source": [
    "text_rf_clf = Pipeline([('tfidf', TfidfVectorizer()), ('clf', ensemble.RandomForestClassifier())])"
   ]
  },
  {
   "cell_type": "code",
   "execution_count": 632,
   "metadata": {
    "collapsed": true
   },
   "outputs": [],
   "source": [
    "reddit_data_v2.clean_comments.fillna('', inplace=True)\n",
    "reddit_data_v2.clean_title.fillna('', inplace=True)\n",
    "reddit_data_v2.clean_title_text.fillna('', inplace=True)\n",
    "reddit_data_v2['all_text'] = reddit_data_v2.clean_comments.str.cat(reddit_data_v2['clean_title'], sep=' ')\n",
    "reddit_data_v2['all_text'] = reddit_data_v2.all_text.str.cat(reddit_data_v2['clean_title_text'], sep=' ')\n",
    "reddit_data_v2.all_text.fillna('', inplace=True)"
   ]
  },
  {
   "cell_type": "code",
   "execution_count": 633,
   "metadata": {
    "collapsed": true
   },
   "outputs": [],
   "source": [
    "text_X_train, text_X_test, text_y_train, text_y_test = train_test_split(reddit_data_v2.all_text, reddit_data_v2.double_mod_flair, test_size=0.2)"
   ]
  },
  {
   "cell_type": "code",
   "execution_count": 634,
   "metadata": {},
   "outputs": [
    {
     "data": {
      "text/plain": [
       "1614    link selfpost eli5 post nnnnadding sources dat...\n",
       "931     jugaad way forward indiannyesnnwhere ppesnnwe ...\n",
       "250     bsp bjd aap ysr congress support centres resol...\n",
       "47      similar situation im student found hack recent...\n",
       "91      women use clean peeing ppl use dry washing 1 u...\n",
       "                              ...                        \n",
       "1675    relevant bit interviewnn chaliye camera man ko...\n",
       "1108     goi contact citizens mobile number 1921 condu...\n",
       "298     civilization v intensifies homelander whats co...\n",
       "1476    layer 2 tweet reddit incorrect representation ...\n",
       "1626    symmetry great example fractal architecture ol...\n",
       "Name: all_text, Length: 1376, dtype: object"
      ]
     },
     "execution_count": 634,
     "metadata": {},
     "output_type": "execute_result"
    }
   ],
   "source": [
    "text_X_train"
   ]
  },
  {
   "cell_type": "code",
   "execution_count": 635,
   "metadata": {},
   "outputs": [
    {
     "data": {
      "text/plain": [
       "Pipeline(memory=None,\n",
       "         steps=[('tfidf',\n",
       "                 TfidfVectorizer(analyzer='word', binary=False,\n",
       "                                 decode_error='strict',\n",
       "                                 dtype=<class 'numpy.float64'>,\n",
       "                                 encoding='utf-8', input='content',\n",
       "                                 lowercase=True, max_df=1.0, max_features=None,\n",
       "                                 min_df=1, ngram_range=(1, 1), norm='l2',\n",
       "                                 preprocessor=None, smooth_idf=True,\n",
       "                                 stop_words=None, strip_accents=None,\n",
       "                                 sublinear_tf=False,\n",
       "                                 token_pattern='...\n",
       "                 RandomForestClassifier(bootstrap=True, ccp_alpha=0.0,\n",
       "                                        class_weight=None, criterion='gini',\n",
       "                                        max_depth=None, max_features='auto',\n",
       "                                        max_leaf_nodes=None, max_samples=None,\n",
       "                                        min_impurity_decrease=0.0,\n",
       "                                        min_impurity_split=None,\n",
       "                                        min_samples_leaf=1, min_samples_split=2,\n",
       "                                        min_weight_fraction_leaf=0.0,\n",
       "                                        n_estimators=100, n_jobs=None,\n",
       "                                        oob_score=False, random_state=None,\n",
       "                                        verbose=0, warm_start=False))],\n",
       "         verbose=False)"
      ]
     },
     "execution_count": 635,
     "metadata": {},
     "output_type": "execute_result"
    }
   ],
   "source": [
    "text_rf_clf.fit(text_X_train, text_y_train)"
   ]
  },
  {
   "cell_type": "code",
   "execution_count": 636,
   "metadata": {},
   "outputs": [
    {
     "data": {
      "text/plain": [
       "1.0"
      ]
     },
     "execution_count": 636,
     "metadata": {},
     "output_type": "execute_result"
    }
   ],
   "source": [
    "accuracy_score(text_y_train, text_rf_clf.predict(text_X_train))"
   ]
  },
  {
   "cell_type": "code",
   "execution_count": 637,
   "metadata": {},
   "outputs": [
    {
     "data": {
      "text/plain": [
       "0.5348837209302325"
      ]
     },
     "execution_count": 637,
     "metadata": {},
     "output_type": "execute_result"
    }
   ],
   "source": [
    "accuracy_score(text_y_test, text_rf_clf.predict(text_X_test))"
   ]
  },
  {
   "cell_type": "markdown",
   "metadata": {},
   "source": [
    "### Clearly the text models seem to be performing better on the test data."
   ]
  },
  {
   "cell_type": "markdown",
   "metadata": {},
   "source": [
    " "
   ]
  },
  {
   "cell_type": "markdown",
   "metadata": {},
   "source": [
    "## Trying out a couple of keras RNN models\n",
    "### To start with, a bidirectional LSTM"
   ]
  },
  {
   "cell_type": "code",
   "execution_count": 455,
   "metadata": {
    "collapsed": true
   },
   "outputs": [],
   "source": [
    "from tensorflow.keras.preprocessing import sequence, text\n",
    "from tensorflow.keras.models import Sequential\n",
    "from tensorflow.keras.layers import Dense, Embedding, Input\n",
    "from tensorflow.keras.layers import LSTM, Bidirectional, Dropout, Conv1D, GlobalMaxPooling1D\n",
    "from tensorflow.keras.optimizers import Adam, RMSprop, SGD\n",
    "from tensorflow.keras.callbacks import EarlyStopping"
   ]
  },
  {
   "cell_type": "code",
   "execution_count": 693,
   "metadata": {
    "collapsed": true
   },
   "outputs": [],
   "source": [
    "text_X_train, text_X_test, text_y_train, text_y_test = train_test_split(reddit_data_v2.all_text, reddit_data_v2.double_mod_flair, test_size=0.2)"
   ]
  },
  {
   "cell_type": "code",
   "execution_count": 694,
   "metadata": {
    "collapsed": true
   },
   "outputs": [],
   "source": [
    "tokenizer = text.Tokenizer()\n",
    "tokenizer.fit_on_texts(reddit_data_v2.all_text)\n",
    "text_X_train_seq = tokenizer.texts_to_sequences(text_X_train)\n",
    "text_X_test_seq = tokenizer.texts_to_sequences(text_X_test)"
   ]
  },
  {
   "cell_type": "code",
   "execution_count": 695,
   "metadata": {
    "collapsed": true
   },
   "outputs": [],
   "source": [
    "import pickle\n",
    "\n",
    "with open('tokenizer.pickle', 'wb') as handle:\n",
    "    pickle.dump(tokenizer, handle, protocol=pickle.HIGHEST_PROTOCOL)"
   ]
  },
  {
   "cell_type": "code",
   "execution_count": 696,
   "metadata": {
    "collapsed": true
   },
   "outputs": [],
   "source": [
    "encoder = LabelEncoder()\n",
    "encoder.fit(text_y_train)\n",
    "text_y_train_enc = encoder.transform(text_y_train)\n",
    "text_y_test_enc = encoder.transform(text_y_test)\n"
   ]
  },
  {
   "cell_type": "code",
   "execution_count": 697,
   "metadata": {
    "collapsed": true
   },
   "outputs": [],
   "source": [
    "np.save('model_classes.npy', encoder.classes_)"
   ]
  },
  {
   "cell_type": "code",
   "execution_count": 698,
   "metadata": {
    "collapsed": true
   },
   "outputs": [],
   "source": [
    "maxlen=70\n",
    "\n",
    "tf_text_X_train = sequence.pad_sequences(text_X_train_seq, maxlen=maxlen)\n",
    "tf_text_X_test = sequence.pad_sequences(text_X_test_seq, maxlen=maxlen)"
   ]
  },
  {
   "cell_type": "code",
   "execution_count": 699,
   "metadata": {},
   "outputs": [
    {
     "data": {
      "text/plain": [
       "24547"
      ]
     },
     "execution_count": 699,
     "metadata": {},
     "output_type": "execute_result"
    }
   ],
   "source": [
    "len(tokenizer.word_index)"
   ]
  },
  {
   "cell_type": "markdown",
   "metadata": {},
   "source": [
    "### The model is getting created here with the following layers\n",
    "1. Embedding layer which uses the default embeddings provided by Keras (to convert text into word embeddings)\n",
    "2. A bidirectional LSTM layer to learn the patterns in the sequence of words\n",
    "3. A final output layer to predict the flair"
   ]
  },
  {
   "cell_type": "code",
   "execution_count": 722,
   "metadata": {
    "collapsed": true
   },
   "outputs": [],
   "source": [
    "model = Sequential()\n",
    "model.add(Embedding(len(tokenizer.word_index)+1, 128))\n",
    "model.add(Bidirectional(LSTM(64)))\n",
    "model.add(Dense(6, activation='sigmoid'))"
   ]
  },
  {
   "cell_type": "markdown",
   "metadata": {},
   "source": [
    "#### The optimizer used is Adam, the loss monitored is categorical cross entropy for multi class classification and the metric calculated for training and test set is accuracy"
   ]
  },
  {
   "cell_type": "code",
   "execution_count": 723,
   "metadata": {
    "collapsed": true
   },
   "outputs": [],
   "source": [
    "adam = Adam(lr=0.0005)\n",
    "model.compile(loss='categorical_crossentropy',\n",
    "              optimizer=adam,\n",
    "              metrics=['accuracy'],)"
   ]
  },
  {
   "cell_type": "code",
   "execution_count": 724,
   "metadata": {
    "collapsed": true
   },
   "outputs": [],
   "source": [
    "from tensorflow.keras.utils import to_categorical"
   ]
  },
  {
   "cell_type": "code",
   "execution_count": 725,
   "metadata": {},
   "outputs": [
    {
     "name": "stdout",
     "output_type": "stream",
     "text": [
      "Train on 1376 samples, validate on 344 samples\n",
      "Epoch 1/25\n",
      "1376/1376 [==============================] - 10s 7ms/sample - loss: 1.7047 - accuracy: 0.2362 - val_loss: 1.6320 - val_accuracy: 0.2122\n",
      "Epoch 2/25\n",
      "1376/1376 [==============================] - 7s 5ms/sample - loss: 1.5978 - accuracy: 0.3198 - val_loss: 1.6114 - val_accuracy: 0.2645\n",
      "Epoch 3/25\n",
      "1376/1376 [==============================] - 7s 5ms/sample - loss: 1.4644 - accuracy: 0.4062 - val_loss: 1.5689 - val_accuracy: 0.3285\n",
      "Epoch 4/25\n",
      "1376/1376 [==============================] - 8s 6ms/sample - loss: 1.1379 - accuracy: 0.6076 - val_loss: 1.6870 - val_accuracy: 0.3576\n",
      "Epoch 5/25\n",
      "1376/1376 [==============================] - 7s 5ms/sample - loss: 0.9551 - accuracy: 0.6483 - val_loss: 1.7392 - val_accuracy: 0.4215\n",
      "Epoch 6/25\n",
      "1376/1376 [==============================] - 8s 5ms/sample - loss: 0.7041 - accuracy: 0.7849 - val_loss: 1.7661 - val_accuracy: 0.3983\n",
      "Epoch 7/25\n",
      "1376/1376 [==============================] - 8s 6ms/sample - loss: 0.4927 - accuracy: 0.8445 - val_loss: 1.7092 - val_accuracy: 0.4680\n",
      "Epoch 8/25\n",
      "1376/1376 [==============================] - 7s 5ms/sample - loss: 0.3712 - accuracy: 0.8808 - val_loss: 1.7685 - val_accuracy: 0.4506\n",
      "Epoch 9/25\n",
      "1376/1376 [==============================] - 7s 5ms/sample - loss: 0.2507 - accuracy: 0.9179 - val_loss: 2.3517 - val_accuracy: 0.4186\n",
      "Epoch 10/25\n",
      "1376/1376 [==============================] - 7s 5ms/sample - loss: 0.1700 - accuracy: 0.9477 - val_loss: 2.5544 - val_accuracy: 0.3692\n",
      "Epoch 11/25\n",
      "1376/1376 [==============================] - 7s 5ms/sample - loss: 0.1508 - accuracy: 0.9455 - val_loss: 2.4458 - val_accuracy: 0.3953\n",
      "Epoch 12/25\n",
      "1376/1376 [==============================] - 7s 5ms/sample - loss: 0.1380 - accuracy: 0.9520 - val_loss: 2.5322 - val_accuracy: 0.4012\n",
      "Epoch 13/25\n",
      "1376/1376 [==============================] - 7s 5ms/sample - loss: 0.1122 - accuracy: 0.9680 - val_loss: 2.4945 - val_accuracy: 0.4215\n",
      "Epoch 14/25\n",
      "1376/1376 [==============================] - 7s 5ms/sample - loss: 0.0929 - accuracy: 0.9738 - val_loss: 2.7549 - val_accuracy: 0.3983\n",
      "Epoch 15/25\n",
      "1376/1376 [==============================] - 7s 5ms/sample - loss: 0.0812 - accuracy: 0.9811 - val_loss: 2.6969 - val_accuracy: 0.3837\n",
      "Epoch 16/25\n",
      "1376/1376 [==============================] - 7s 5ms/sample - loss: 0.1664 - accuracy: 0.9600 - val_loss: 2.0428 - val_accuracy: 0.3866\n",
      "Epoch 17/25\n",
      "1376/1376 [==============================] - 7s 5ms/sample - loss: 0.2269 - accuracy: 0.9564 - val_loss: 2.3583 - val_accuracy: 0.4186\n",
      "Epoch 18/25\n",
      "1376/1376 [==============================] - 7s 5ms/sample - loss: 0.1407 - accuracy: 0.9673 - val_loss: 2.4051 - val_accuracy: 0.4215\n",
      "Epoch 19/25\n",
      "1376/1376 [==============================] - 7s 5ms/sample - loss: 0.0867 - accuracy: 0.9891 - val_loss: 2.4254 - val_accuracy: 0.4302\n",
      "Epoch 20/25\n",
      "1376/1376 [==============================] - 7s 5ms/sample - loss: 0.0576 - accuracy: 0.9949 - val_loss: 2.4351 - val_accuracy: 0.4041\n",
      "Epoch 21/25\n",
      "1376/1376 [==============================] - 7s 5ms/sample - loss: 0.0717 - accuracy: 0.9833 - val_loss: 2.2532 - val_accuracy: 0.4273\n",
      "Epoch 22/25\n",
      "1376/1376 [==============================] - 7s 5ms/sample - loss: 0.0474 - accuracy: 0.9935 - val_loss: 2.4097 - val_accuracy: 0.4099\n",
      "Epoch 23/25\n",
      "1376/1376 [==============================] - 7s 5ms/sample - loss: 0.0338 - accuracy: 0.9971 - val_loss: 2.5468 - val_accuracy: 0.4099\n",
      "Epoch 24/25\n",
      "1376/1376 [==============================] - 7s 5ms/sample - loss: 0.0252 - accuracy: 0.9978 - val_loss: 2.6685 - val_accuracy: 0.4215\n",
      "Epoch 25/25\n",
      "1376/1376 [==============================] - 7s 5ms/sample - loss: 0.0200 - accuracy: 0.9985 - val_loss: 2.8095 - val_accuracy: 0.4157\n"
     ]
    },
    {
     "data": {
      "text/plain": [
       "<tensorflow.python.keras.callbacks.History at 0x23db9273f60>"
      ]
     },
     "execution_count": 725,
     "metadata": {},
     "output_type": "execute_result"
    }
   ],
   "source": [
    "model.fit(tf_text_X_train, to_categorical(text_y_train_enc),\n",
    "          batch_size=32,\n",
    "          epochs=25,\n",
    "          validation_data=(tf_text_X_test, to_categorical(text_y_test_enc)),)"
   ]
  },
  {
   "cell_type": "markdown",
   "metadata": {},
   "source": [
    "## As we can see, while the model performs quite similar to the Random Forest model where it overfits on the training set and has close scores on the test set. This can be improved by trying out other embedding models, controlling other hyperparameters like the learning rate and changing model shape to incorporate longer sequences"
   ]
  },
  {
   "cell_type": "code",
   "execution_count": 219,
   "metadata": {
    "collapsed": true
   },
   "outputs": [],
   "source": [
    "import codecs, tqdm"
   ]
  },
  {
   "cell_type": "markdown",
   "metadata": {},
   "source": [
    "## The fasttext trained word embeddings trained on the Wikipedia 2017, UMBC webbase corpus have been used below\n",
    "### Link to file - https://dl.fbaipublicfiles.com/fasttext/vectors-english/wiki-news-300d-1M.vec.zip"
   ]
  },
  {
   "cell_type": "code",
   "execution_count": 671,
   "metadata": {
    "collapsed": true
   },
   "outputs": [],
   "source": [
    "f = codecs.open('wiki-news-300d-1M.vec', encoding='utf-8')"
   ]
  },
  {
   "cell_type": "code",
   "execution_count": 672,
   "metadata": {
    "collapsed": true
   },
   "outputs": [],
   "source": [
    "embeddings_index={}"
   ]
  },
  {
   "cell_type": "code",
   "execution_count": 673,
   "metadata": {},
   "outputs": [
    {
     "name": "stderr",
     "output_type": "stream",
     "text": [
      "999995it [03:17, 5057.05it/s]"
     ]
    },
    {
     "name": "stdout",
     "output_type": "stream",
     "text": [
      "found 999995 word vectors\n"
     ]
    },
    {
     "name": "stderr",
     "output_type": "stream",
     "text": [
      "\n"
     ]
    }
   ],
   "source": [
    "for line in tqdm.tqdm(f):\n",
    "    values = line.rstrip().rsplit(' ')\n",
    "    word = values[0]\n",
    "    coefs = np.asarray(values[1:], dtype='float32')\n",
    "    embeddings_index[word] = coefs\n",
    "f.close()\n",
    "print(f'found {len(embeddings_index)} word vectors')"
   ]
  },
  {
   "cell_type": "code",
   "execution_count": 674,
   "metadata": {
    "collapsed": true
   },
   "outputs": [],
   "source": [
    "word_index = tokenizer.word_index"
   ]
  },
  {
   "cell_type": "code",
   "execution_count": 709,
   "metadata": {
    "collapsed": true
   },
   "outputs": [],
   "source": [
    "words_not_found = []\n",
    "nb_words = min(100000, len(word_index))\n",
    "embedding_matrix = np.zeros((nb_words+1, 300))"
   ]
  },
  {
   "cell_type": "markdown",
   "metadata": {},
   "source": [
    "## Getting the word vectors for the words in our text"
   ]
  },
  {
   "cell_type": "code",
   "execution_count": 710,
   "metadata": {
    "collapsed": true
   },
   "outputs": [],
   "source": [
    "for word, i in word_index.items():\n",
    "    if i >= nb_words:\n",
    "        continue\n",
    "    embedding_vector = embeddings_index.get(word)\n",
    "    if (embedding_vector is not None) and len(embedding_vector) > 0:\n",
    "        embedding_matrix[i] = embedding_vector\n",
    "        t_shape = embedding_vector.shape\n",
    "    else:\n",
    "        words_not_found.append(word)\n",
    "        embedding_matrix[i] = np.zeros(t_shape)\n",
    "        #print(word, i, t_shape)\n",
    "\n"
   ]
  },
  {
   "cell_type": "markdown",
   "metadata": {},
   "source": [
    "## Creating another model"
   ]
  },
  {
   "cell_type": "code",
   "execution_count": 711,
   "metadata": {
    "collapsed": true
   },
   "outputs": [],
   "source": [
    "model = Sequential()\n",
    "model.add(Embedding(len(word_index)+1, 300, weights=[embedding_matrix], trainable=False))\n",
    "model.add(Bidirectional(LSTM(150)))\n",
    "model.add(Dense(6, activation='sigmoid'))"
   ]
  },
  {
   "cell_type": "code",
   "execution_count": 712,
   "metadata": {},
   "outputs": [
    {
     "name": "stdout",
     "output_type": "stream",
     "text": [
      "Model: \"sequential_54\"\n",
      "_________________________________________________________________\n",
      "Layer (type)                 Output Shape              Param #   \n",
      "=================================================================\n",
      "embedding_50 (Embedding)     (None, None, 300)         7364400   \n",
      "_________________________________________________________________\n",
      "bidirectional_29 (Bidirectio (None, 300)               541200    \n",
      "_________________________________________________________________\n",
      "dense_50 (Dense)             (None, 6)                 1806      \n",
      "=================================================================\n",
      "Total params: 7,907,406\n",
      "Trainable params: 543,006\n",
      "Non-trainable params: 7,364,400\n",
      "_________________________________________________________________\n"
     ]
    }
   ],
   "source": [
    "model.summary()"
   ]
  },
  {
   "cell_type": "code",
   "execution_count": 713,
   "metadata": {
    "collapsed": true
   },
   "outputs": [],
   "source": [
    "adam = Adam(lr=0.0005)\n",
    "model.compile(loss='categorical_crossentropy',\n",
    "              optimizer=adam,\n",
    "              metrics=['accuracy'],)"
   ]
  },
  {
   "cell_type": "code",
   "execution_count": 714,
   "metadata": {},
   "outputs": [
    {
     "name": "stdout",
     "output_type": "stream",
     "text": [
      "Train on 1376 samples, validate on 344 samples\n",
      "Epoch 1/25\n",
      "1376/1376 [==============================] - 15s 11ms/sample - loss: 1.6812 - accuracy: 0.2674 - val_loss: 1.6147 - val_accuracy: 0.2180\n",
      "Epoch 2/25\n",
      "1376/1376 [==============================] - 12s 9ms/sample - loss: 1.5507 - accuracy: 0.3844 - val_loss: 1.5249 - val_accuracy: 0.4273\n",
      "Epoch 3/25\n",
      "1376/1376 [==============================] - 12s 9ms/sample - loss: 1.3833 - accuracy: 0.4658 - val_loss: 1.4036 - val_accuracy: 0.4302\n",
      "Epoch 4/25\n",
      "1376/1376 [==============================] - 12s 9ms/sample - loss: 1.3032 - accuracy: 0.4789 - val_loss: 1.2950 - val_accuracy: 0.5087\n",
      "Epoch 5/25\n",
      "1376/1376 [==============================] - 12s 9ms/sample - loss: 1.1788 - accuracy: 0.5443 - val_loss: 1.2330 - val_accuracy: 0.5262\n",
      "Epoch 6/25\n",
      "1376/1376 [==============================] - 12s 9ms/sample - loss: 1.1449 - accuracy: 0.5480 - val_loss: 1.2587 - val_accuracy: 0.5465\n",
      "Epoch 7/25\n",
      "1376/1376 [==============================] - 12s 9ms/sample - loss: 1.0881 - accuracy: 0.5879 - val_loss: 1.2370 - val_accuracy: 0.5407\n",
      "Epoch 8/25\n",
      "1376/1376 [==============================] - 12s 9ms/sample - loss: 1.0461 - accuracy: 0.6185 - val_loss: 1.2654 - val_accuracy: 0.5203\n",
      "Epoch 9/25\n",
      "1376/1376 [==============================] - 13s 9ms/sample - loss: 0.9813 - accuracy: 0.6417 - val_loss: 1.2384 - val_accuracy: 0.5262\n",
      "Epoch 10/25\n",
      "1376/1376 [==============================] - 12s 9ms/sample - loss: 0.9617 - accuracy: 0.6315 - val_loss: 1.3991 - val_accuracy: 0.4855\n",
      "Epoch 11/25\n",
      "1376/1376 [==============================] - 12s 9ms/sample - loss: 0.8845 - accuracy: 0.6628 - val_loss: 1.3923 - val_accuracy: 0.5203\n",
      "Epoch 12/25\n",
      "1376/1376 [==============================] - 12s 9ms/sample - loss: 0.8602 - accuracy: 0.6802 - val_loss: 1.3399 - val_accuracy: 0.5320\n",
      "Epoch 13/25\n",
      "1376/1376 [==============================] - 12s 9ms/sample - loss: 0.8029 - accuracy: 0.7144 - val_loss: 1.4129 - val_accuracy: 0.5145\n",
      "Epoch 14/25\n",
      "1376/1376 [==============================] - 13s 10ms/sample - loss: 0.8019 - accuracy: 0.7049 - val_loss: 1.2992 - val_accuracy: 0.5262\n",
      "Epoch 15/25\n",
      "1376/1376 [==============================] - 14s 10ms/sample - loss: 0.7420 - accuracy: 0.7304 - val_loss: 1.4355 - val_accuracy: 0.5203\n",
      "Epoch 16/25\n",
      "1376/1376 [==============================] - 13s 10ms/sample - loss: 0.6510 - accuracy: 0.7667 - val_loss: 1.4762 - val_accuracy: 0.4913\n",
      "Epoch 17/25\n",
      "1376/1376 [==============================] - 14s 10ms/sample - loss: 0.6639 - accuracy: 0.7616 - val_loss: 1.5340 - val_accuracy: 0.5058\n",
      "Epoch 18/25\n",
      "1376/1376 [==============================] - 13s 9ms/sample - loss: 0.6691 - accuracy: 0.7682 - val_loss: 1.4646 - val_accuracy: 0.5058\n",
      "Epoch 19/25\n",
      "1376/1376 [==============================] - 13s 10ms/sample - loss: 0.6044 - accuracy: 0.7900 - val_loss: 1.5884 - val_accuracy: 0.4826\n",
      "Epoch 20/25\n",
      "1376/1376 [==============================] - 12s 9ms/sample - loss: 0.5692 - accuracy: 0.7929 - val_loss: 1.5909 - val_accuracy: 0.4797\n",
      "Epoch 21/25\n",
      "1376/1376 [==============================] - 12s 9ms/sample - loss: 0.5092 - accuracy: 0.8198 - val_loss: 1.6155 - val_accuracy: 0.4971\n",
      "Epoch 22/25\n",
      "1376/1376 [==============================] - 12s 9ms/sample - loss: 0.4430 - accuracy: 0.8576 - val_loss: 1.6412 - val_accuracy: 0.5000\n",
      "Epoch 23/25\n",
      "1376/1376 [==============================] - 12s 9ms/sample - loss: 0.3885 - accuracy: 0.8823 - val_loss: 1.7450 - val_accuracy: 0.4767\n",
      "Epoch 24/25\n",
      "1376/1376 [==============================] - 12s 9ms/sample - loss: 0.3512 - accuracy: 0.8968 - val_loss: 1.7899 - val_accuracy: 0.5029\n",
      "Epoch 25/25\n",
      "1376/1376 [==============================] - 12s 9ms/sample - loss: 0.3596 - accuracy: 0.8895 - val_loss: 1.7124 - val_accuracy: 0.4738\n"
     ]
    },
    {
     "data": {
      "text/plain": [
       "<tensorflow.python.keras.callbacks.History at 0x23da7f71d30>"
      ]
     },
     "execution_count": 714,
     "metadata": {},
     "output_type": "execute_result"
    }
   ],
   "source": [
    "model.fit(tf_text_X_train, to_categorical(text_y_train_enc),\n",
    "          batch_size=32,\n",
    "          epochs=25,\n",
    "          validation_data=(tf_text_X_test, to_categorical(text_y_test_enc)),)"
   ]
  },
  {
   "cell_type": "markdown",
   "metadata": {},
   "source": [
    "### As we can see with this model, the overfitting has reduced and the difference between training and validation scores as well. This model can also be re-trained as and when we gather more data"
   ]
  },
  {
   "cell_type": "code",
   "execution_count": 719,
   "metadata": {
    "collapsed": true
   },
   "outputs": [],
   "source": [
    "model.save('BLSTM_model.h5')"
   ]
  },
  {
   "cell_type": "markdown",
   "metadata": {},
   "source": [
    "## Trying out one more model - [CNNs](https://keras.io/examples/imdb_cnn/) for text classification from Keras"
   ]
  },
  {
   "cell_type": "code",
   "execution_count": 727,
   "metadata": {
    "collapsed": true
   },
   "outputs": [],
   "source": [
    "model2 = Sequential()\n",
    "model2.add(Embedding(len(word_index)+1, 300, weights=[embedding_matrix], trainable=False))\n",
    "model2.add(Conv1D(64, 5, activation='relu'))\n",
    "model2.add(GlobalMaxPooling1D())\n",
    "model2.add(Dense(6, activation='sigmoid'))"
   ]
  },
  {
   "cell_type": "code",
   "execution_count": 726,
   "metadata": {
    "collapsed": true
   },
   "outputs": [],
   "source": [
    "cb = EarlyStopping(monitor='val_loss', mode='min', patience=3, verbose=1)"
   ]
  },
  {
   "cell_type": "code",
   "execution_count": 728,
   "metadata": {
    "collapsed": true
   },
   "outputs": [],
   "source": [
    "model2.compile(loss='categorical_crossentropy',\n",
    "              optimizer=RMSprop(),\n",
    "              metrics=['accuracy'],)"
   ]
  },
  {
   "cell_type": "code",
   "execution_count": 729,
   "metadata": {},
   "outputs": [
    {
     "name": "stdout",
     "output_type": "stream",
     "text": [
      "Train on 1376 samples, validate on 344 samples\n",
      "Epoch 1/15\n",
      "1376/1376 [==============================] - 4s 3ms/sample - loss: 1.6295 - accuracy: 0.3423 - val_loss: 1.5621 - val_accuracy: 0.3488\n",
      "Epoch 2/15\n",
      "1376/1376 [==============================] - 2s 1ms/sample - loss: 1.3953 - accuracy: 0.5305 - val_loss: 1.4522 - val_accuracy: 0.4331\n",
      "Epoch 3/15\n",
      "1376/1376 [==============================] - 2s 1ms/sample - loss: 1.1677 - accuracy: 0.6483 - val_loss: 1.3870 - val_accuracy: 0.4419\n",
      "Epoch 4/15\n",
      "1376/1376 [==============================] - 2s 1ms/sample - loss: 0.9829 - accuracy: 0.7442 - val_loss: 1.3502 - val_accuracy: 0.4564\n",
      "Epoch 5/15\n",
      "1376/1376 [==============================] - 2s 1ms/sample - loss: 0.8329 - accuracy: 0.8060 - val_loss: 1.3235 - val_accuracy: 0.4884\n",
      "Epoch 6/15\n",
      "1376/1376 [==============================] - 2s 1ms/sample - loss: 0.7040 - accuracy: 0.8612 - val_loss: 1.3427 - val_accuracy: 0.4651\n",
      "Epoch 7/15\n",
      "1376/1376 [==============================] - 2s 1ms/sample - loss: 0.5869 - accuracy: 0.9106 - val_loss: 1.3237 - val_accuracy: 0.4913\n",
      "Epoch 8/15\n",
      "1376/1376 [==============================] - 2s 1ms/sample - loss: 0.4821 - accuracy: 0.9411 - val_loss: 1.3154 - val_accuracy: 0.4680\n",
      "Epoch 9/15\n",
      "1376/1376 [==============================] - 2s 1ms/sample - loss: 0.3942 - accuracy: 0.9600 - val_loss: 1.3053 - val_accuracy: 0.4767\n",
      "Epoch 10/15\n",
      "1376/1376 [==============================] - 2s 1ms/sample - loss: 0.3129 - accuracy: 0.9826 - val_loss: 1.3240 - val_accuracy: 0.4855\n",
      "Epoch 11/15\n",
      "1376/1376 [==============================] - 2s 1ms/sample - loss: 0.2461 - accuracy: 0.9920 - val_loss: 1.3675 - val_accuracy: 0.4767\n",
      "Epoch 12/15\n",
      "1376/1376 [==============================] - 2s 1ms/sample - loss: 0.1908 - accuracy: 0.9949 - val_loss: 1.3358 - val_accuracy: 0.5203\n",
      "Epoch 00012: early stopping\n"
     ]
    },
    {
     "data": {
      "text/plain": [
       "<tensorflow.python.keras.callbacks.History at 0x23db9441c50>"
      ]
     },
     "execution_count": 729,
     "metadata": {},
     "output_type": "execute_result"
    }
   ],
   "source": [
    "model2.fit(tf_text_X_train, to_categorical(text_y_train_enc),\n",
    "          batch_size=32,\n",
    "          epochs=15,\n",
    "          validation_data=(tf_text_X_test, to_categorical(text_y_test_enc)),callbacks=[cb])"
   ]
  },
  {
   "cell_type": "code",
   "execution_count": 718,
   "metadata": {
    "collapsed": true
   },
   "outputs": [],
   "source": [
    "model2.save('CNN_model.h5')"
   ]
  },
  {
   "cell_type": "markdown",
   "metadata": {},
   "source": [
    "## The intention here was to try out another word embedding - ELMo to see if the models turned out to be better.\n",
    "## However, due to some tensorflow version issues, this didn't work out. Will continue to try this out"
   ]
  },
  {
   "cell_type": "code",
   "execution_count": 428,
   "metadata": {
    "collapsed": true
   },
   "outputs": [],
   "source": [
    "import tensorflow_hub as tf_hub"
   ]
  },
  {
   "cell_type": "code",
   "execution_count": 448,
   "metadata": {
    "collapsed": true
   },
   "outputs": [],
   "source": [
    "from tensorflow.compat import v1\n",
    "from tensorflow.keras.layers import Layer\n",
    "from tensorflow.keras import backend as K"
   ]
  },
  {
   "cell_type": "code",
   "execution_count": 435,
   "metadata": {
    "collapsed": true
   },
   "outputs": [],
   "source": [
    "embed = tf_hub.Module('https://tfhub.dev/google/elmo/2', trainable=True,\n",
    "                               name=\"elmo_embed\")\n"
   ]
  },
  {
   "cell_type": "code",
   "execution_count": 436,
   "metadata": {
    "collapsed": true
   },
   "outputs": [],
   "source": [
    "def ELMoEmbedding(x):\n",
    "    return embed(tf.squeeze(tf.cast(x, tf.string)), signature=\"default\", as_dict=True)[\"default\"]"
   ]
  },
  {
   "cell_type": "code",
   "execution_count": 449,
   "metadata": {
    "collapsed": true
   },
   "outputs": [],
   "source": [
    "class ElmoEmbeddingLayer(Layer):\n",
    "    def __init__(self, **kwargs):\n",
    "        self.dimensions = 1024\n",
    "        self.trainable=True\n",
    "        super(ElmoEmbeddingLayer, self).__init__(**kwargs)\n",
    "\n",
    "    def build(self, input_shape):\n",
    "        self.elmo = tf_hub.Module('https://tfhub.dev/google/elmo/2', trainable=self.trainable,\n",
    "                               name=\"{}_module\".format(self.name))\n",
    "\n",
    "        self.trainable_weights += K. .tf.trainable_variables(scope=\"^{}_module/.*\".format(self.name))\n",
    "        super(ElmoEmbeddingLayer, self).build(input_shape)\n",
    "\n",
    "    def call(self, x, mask=None):\n",
    "        result = self.elmo(K.squeeze(K.cast(x, tf.string), axis=1),\n",
    "                      as_dict=True,\n",
    "                      signature='default',\n",
    "                      )['default']\n",
    "        return result\n",
    "\n",
    "    def compute_mask(self, inputs, mask=None):\n",
    "        return K.not_equal(inputs, '--PAD--')\n",
    "\n",
    "    def compute_output_shape(self, input_shape):\n",
    "        return (input_shape[0], self.dimensions)"
   ]
  },
  {
   "cell_type": "code",
   "execution_count": 450,
   "metadata": {},
   "outputs": [
    {
     "ename": "AttributeError",
     "evalue": "module 'tensorflow_core.keras.backend' has no attribute 'tf'",
     "output_type": "error",
     "traceback": [
      "\u001b[1;31m---------------------------------------------------------------------------\u001b[0m",
      "\u001b[1;31mAttributeError\u001b[0m                            Traceback (most recent call last)",
      "\u001b[1;32m<ipython-input-450-86717bcc46b5>\u001b[0m in \u001b[0;36m<module>\u001b[1;34m()\u001b[0m\n\u001b[0;32m      1\u001b[0m \u001b[0minput_text\u001b[0m \u001b[1;33m=\u001b[0m \u001b[0mInput\u001b[0m\u001b[1;33m(\u001b[0m\u001b[0mshape\u001b[0m\u001b[1;33m=\u001b[0m\u001b[1;33m(\u001b[0m\u001b[1;36m1\u001b[0m\u001b[1;33m,\u001b[0m\u001b[1;33m)\u001b[0m\u001b[1;33m,\u001b[0m \u001b[0mdtype\u001b[0m\u001b[1;33m=\u001b[0m\u001b[1;34m\"string\"\u001b[0m\u001b[1;33m)\u001b[0m\u001b[1;33m\u001b[0m\u001b[0m\n\u001b[1;32m----> 2\u001b[1;33m \u001b[0membedding\u001b[0m \u001b[1;33m=\u001b[0m \u001b[0mElmoEmbeddingLayer\u001b[0m\u001b[1;33m(\u001b[0m\u001b[1;33m)\u001b[0m\u001b[1;33m(\u001b[0m\u001b[0minput_text\u001b[0m\u001b[1;33m)\u001b[0m\u001b[1;33m\u001b[0m\u001b[0m\n\u001b[0m\u001b[0;32m      3\u001b[0m \u001b[0mdense\u001b[0m \u001b[1;33m=\u001b[0m \u001b[0mDense\u001b[0m\u001b[1;33m(\u001b[0m\u001b[1;36m256\u001b[0m\u001b[1;33m,\u001b[0m \u001b[0mactivation\u001b[0m\u001b[1;33m=\u001b[0m\u001b[1;34m'relu'\u001b[0m\u001b[1;33m)\u001b[0m\u001b[1;33m(\u001b[0m\u001b[0membedding\u001b[0m\u001b[1;33m)\u001b[0m\u001b[1;33m\u001b[0m\u001b[0m\n\u001b[0;32m      4\u001b[0m \u001b[0mpred\u001b[0m \u001b[1;33m=\u001b[0m \u001b[0mDense\u001b[0m\u001b[1;33m(\u001b[0m\u001b[1;36m1\u001b[0m\u001b[1;33m,\u001b[0m \u001b[0mactivation\u001b[0m\u001b[1;33m=\u001b[0m\u001b[1;34m'sigmoid'\u001b[0m\u001b[1;33m)\u001b[0m\u001b[1;33m(\u001b[0m\u001b[0mdense\u001b[0m\u001b[1;33m)\u001b[0m\u001b[1;33m\u001b[0m\u001b[0m\n\u001b[0;32m      5\u001b[0m \u001b[1;33m\u001b[0m\u001b[0m\n",
      "\u001b[1;32m~\\Anaconda2\\envs\\npy3\\lib\\site-packages\\tensorflow_core\\python\\keras\\engine\\base_layer.py\u001b[0m in \u001b[0;36m__call__\u001b[1;34m(self, inputs, *args, **kwargs)\u001b[0m\n\u001b[0;32m    746\u001b[0m           \u001b[1;31m# Build layer if applicable (if the `build` method has been\u001b[0m\u001b[1;33m\u001b[0m\u001b[1;33m\u001b[0m\u001b[0m\n\u001b[0;32m    747\u001b[0m           \u001b[1;31m# overridden).\u001b[0m\u001b[1;33m\u001b[0m\u001b[1;33m\u001b[0m\u001b[0m\n\u001b[1;32m--> 748\u001b[1;33m           \u001b[0mself\u001b[0m\u001b[1;33m.\u001b[0m\u001b[0m_maybe_build\u001b[0m\u001b[1;33m(\u001b[0m\u001b[0minputs\u001b[0m\u001b[1;33m)\u001b[0m\u001b[1;33m\u001b[0m\u001b[0m\n\u001b[0m\u001b[0;32m    749\u001b[0m           \u001b[0mcast_inputs\u001b[0m \u001b[1;33m=\u001b[0m \u001b[0mself\u001b[0m\u001b[1;33m.\u001b[0m\u001b[0m_maybe_cast_inputs\u001b[0m\u001b[1;33m(\u001b[0m\u001b[0minputs\u001b[0m\u001b[1;33m)\u001b[0m\u001b[1;33m\u001b[0m\u001b[0m\n\u001b[0;32m    750\u001b[0m \u001b[1;33m\u001b[0m\u001b[0m\n",
      "\u001b[1;32m~\\Anaconda2\\envs\\npy3\\lib\\site-packages\\tensorflow_core\\python\\keras\\engine\\base_layer.py\u001b[0m in \u001b[0;36m_maybe_build\u001b[1;34m(self, inputs)\u001b[0m\n\u001b[0;32m   2114\u001b[0m         \u001b[1;31m# operations.\u001b[0m\u001b[1;33m\u001b[0m\u001b[1;33m\u001b[0m\u001b[0m\n\u001b[0;32m   2115\u001b[0m         \u001b[1;32mwith\u001b[0m \u001b[0mtf_utils\u001b[0m\u001b[1;33m.\u001b[0m\u001b[0mmaybe_init_scope\u001b[0m\u001b[1;33m(\u001b[0m\u001b[0mself\u001b[0m\u001b[1;33m)\u001b[0m\u001b[1;33m:\u001b[0m\u001b[1;33m\u001b[0m\u001b[0m\n\u001b[1;32m-> 2116\u001b[1;33m           \u001b[0mself\u001b[0m\u001b[1;33m.\u001b[0m\u001b[0mbuild\u001b[0m\u001b[1;33m(\u001b[0m\u001b[0minput_shapes\u001b[0m\u001b[1;33m)\u001b[0m\u001b[1;33m\u001b[0m\u001b[0m\n\u001b[0m\u001b[0;32m   2117\u001b[0m       \u001b[1;31m# We must set self.built since user defined build functions are not\u001b[0m\u001b[1;33m\u001b[0m\u001b[1;33m\u001b[0m\u001b[0m\n\u001b[0;32m   2118\u001b[0m       \u001b[1;31m# constrained to set self.built.\u001b[0m\u001b[1;33m\u001b[0m\u001b[1;33m\u001b[0m\u001b[0m\n",
      "\u001b[1;32m<ipython-input-449-351f22354bb6>\u001b[0m in \u001b[0;36mbuild\u001b[1;34m(self, input_shape)\u001b[0m\n\u001b[0;32m      9\u001b[0m                                name=\"{}_module\".format(self.name))\n\u001b[0;32m     10\u001b[0m \u001b[1;33m\u001b[0m\u001b[0m\n\u001b[1;32m---> 11\u001b[1;33m         \u001b[0mself\u001b[0m\u001b[1;33m.\u001b[0m\u001b[0mtrainable_weights\u001b[0m \u001b[1;33m+=\u001b[0m \u001b[0mK\u001b[0m\u001b[1;33m.\u001b[0m\u001b[0mtf\u001b[0m\u001b[1;33m.\u001b[0m\u001b[0mtrainable_variables\u001b[0m\u001b[1;33m(\u001b[0m\u001b[0mscope\u001b[0m\u001b[1;33m=\u001b[0m\u001b[1;34m\"^{}_module/.*\"\u001b[0m\u001b[1;33m.\u001b[0m\u001b[0mformat\u001b[0m\u001b[1;33m(\u001b[0m\u001b[0mself\u001b[0m\u001b[1;33m.\u001b[0m\u001b[0mname\u001b[0m\u001b[1;33m)\u001b[0m\u001b[1;33m)\u001b[0m\u001b[1;33m\u001b[0m\u001b[0m\n\u001b[0m\u001b[0;32m     12\u001b[0m         \u001b[0msuper\u001b[0m\u001b[1;33m(\u001b[0m\u001b[0mElmoEmbeddingLayer\u001b[0m\u001b[1;33m,\u001b[0m \u001b[0mself\u001b[0m\u001b[1;33m)\u001b[0m\u001b[1;33m.\u001b[0m\u001b[0mbuild\u001b[0m\u001b[1;33m(\u001b[0m\u001b[0minput_shape\u001b[0m\u001b[1;33m)\u001b[0m\u001b[1;33m\u001b[0m\u001b[0m\n\u001b[0;32m     13\u001b[0m \u001b[1;33m\u001b[0m\u001b[0m\n",
      "\u001b[1;31mAttributeError\u001b[0m: module 'tensorflow_core.keras.backend' has no attribute 'tf'"
     ]
    }
   ],
   "source": [
    "input_text = Input(shape=(1,), dtype=\"string\")\n",
    "embedding = ElmoEmbeddingLayer()(input_text)\n",
    "dense = Dense(256, activation='relu')(embedding)\n",
    "pred = Dense(1, activation='sigmoid')(dense)\n",
    "\n",
    "model = Model(inputs=[input_text], outputs=pred)"
   ]
  },
  {
   "cell_type": "code",
   "execution_count": null,
   "metadata": {
    "collapsed": true
   },
   "outputs": [],
   "source": []
  }
 ],
 "metadata": {
  "kernelspec": {
   "display_name": "Python [conda env:npy3]",
   "language": "python",
   "name": "conda-env-npy3-py"
  },
  "language_info": {
   "codemirror_mode": {
    "name": "ipython",
    "version": 3
   },
   "file_extension": ".py",
   "mimetype": "text/x-python",
   "name": "python",
   "nbconvert_exporter": "python",
   "pygments_lexer": "ipython3",
   "version": "3.6.2"
  }
 },
 "nbformat": 4,
 "nbformat_minor": 2
}
