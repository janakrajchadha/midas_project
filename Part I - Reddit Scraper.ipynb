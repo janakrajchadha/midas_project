{
 "cells": [
  {
   "cell_type": "markdown",
   "metadata": {},
   "source": [
    "### Setting up config for calls to reddit API\n",
    "Reddit offers an API which can be used to access the content on the site.\n",
    "The following bits of code attempt to set up the requisite configurations for accessing the API and making a test call"
   ]
  },
  {
   "cell_type": "code",
   "execution_count": 28,
   "metadata": {
    "collapsed": true
   },
   "outputs": [],
   "source": [
    "import requests\n",
    "import json\n",
    "import praw"
   ]
  },
  {
   "cell_type": "code",
   "execution_count": 4,
   "metadata": {},
   "outputs": [],
   "source": [
    "with open('config.json', 'r') as f:\n",
    "    config = json.load(f)"
   ]
  },
  {
   "cell_type": "code",
   "execution_count": 6,
   "metadata": {
    "collapsed": true
   },
   "outputs": [],
   "source": [
    "app_auth = requests.auth.HTTPBasicAuth(config['app_client_id'], config['app_secret'])\n",
    "post_data = {\"grant_type\": \"password\", \"username\": config['username'], \"password\": config['pwd']}\n",
    "headers = {\"User-Agent\": \"ChangeMeClient/0.1 by \"+ config['username']}"
   ]
  },
  {
   "cell_type": "code",
   "execution_count": 134,
   "metadata": {
    "collapsed": true
   },
   "outputs": [],
   "source": [
    "response = requests.post(\"https://www.reddit.com/api/v1/access_token\", auth=app_auth, data=post_data, headers=headers)\n",
    "\n",
    "auth_dict = response.json()"
   ]
  },
  {
   "cell_type": "code",
   "execution_count": 49,
   "metadata": {},
   "outputs": [
    {
     "data": {
      "text/plain": [
       "{'access_token': '424623723-SVqCItj-nok1K_Nj2DBud7sUwt0',\n",
       " 'expires_in': 3600,\n",
       " 'scope': '*',\n",
       " 'token_type': 'bearer'}"
      ]
     },
     "execution_count": 49,
     "metadata": {},
     "output_type": "execute_result"
    }
   ],
   "source": [
    "auth_dict"
   ]
  },
  {
   "cell_type": "code",
   "execution_count": 50,
   "metadata": {
    "collapsed": true
   },
   "outputs": [],
   "source": [
    "headers = {\"Authorization\": \"bearer \" + auth_dict['access_token'], \"User-Agent\": \"ChangeMeClient/0.1 by \" + config['username']}"
   ]
  },
  {
   "cell_type": "code",
   "execution_count": 61,
   "metadata": {
    "collapsed": true
   },
   "outputs": [],
   "source": [
    "api_call = requests.get(\"https://oauth.reddit.com/r/India/about\", headers=headers)"
   ]
  },
  {
   "cell_type": "code",
   "execution_count": 62,
   "metadata": {},
   "outputs": [
    {
     "data": {
      "text/plain": [
       "{'data': {'accounts_active': 2866,\n",
       "  'accounts_active_is_fuzzed': False,\n",
       "  'active_user_count': 2866,\n",
       "  'advertiser_category': 'Local',\n",
       "  'all_original_content': False,\n",
       "  'allow_chat_post_creation': False,\n",
       "  'allow_discovery': True,\n",
       "  'allow_images': True,\n",
       "  'allow_polls': True,\n",
       "  'allow_videogifs': True,\n",
       "  'allow_videos': True,\n",
       "  'banner_background_color': '',\n",
       "  'banner_background_image': 'https://styles.redditmedia.com/t5_2qh1q/styles/bannerBackgroundImage_in37li1rxvx11.jpg',\n",
       "  'banner_img': '',\n",
       "  'banner_size': None,\n",
       "  'can_assign_link_flair': True,\n",
       "  'can_assign_user_flair': True,\n",
       "  'collapse_deleted_comments': True,\n",
       "  'comment_score_hide_mins': 60,\n",
       "  'community_icon': 'https://styles.redditmedia.com/t5_2qh1q/styles/communityIcon_iv9fbruq3ge31.png',\n",
       "  'created': 1201263626.0,\n",
       "  'created_utc': 1201234826.0,\n",
       "  'description': '### We are looking for additional moderators. If you believe you can help, apply [via modmail](https://www.reddit.com/message/compose?to=%2Fr%2Findia)\\n\\n###[r/India Rules](https://www.reddit.com/r/India/wiki/rules)\\n\\n###[PushBullet Notifications](https://www.pushbullet.com/channel?tag=redditindia)\\n\\n###[r/India Discord Server](https://discord.gg/6V29X7f)\\n\\n###[Scheduled threads](https://www.reddit.com/r/india/comments/b27sx9/scheduled_threads/)\\n\\n###[r/India twitter](https://twitter.com/redditindia)\\n\\n#Filters &amp; Hot Topics:\\n\\n&gt; **Enable**[All](http://www.reddit.com/r/india/#aa)[Non-Political](http://yy.reddit.com/r/india/#yy)[Politics](http://xx.reddit.com/r/india/#xx)[\\\\[R\\\\]eddiquette](http://zz.reddit.com/r/india/#zz)[AMA](https://am.reddit.com/r/india/search?q=flair%3AAMA&amp;sort=new&amp;restrict_sr=on/#am)[Scheduled](https://sd.reddit.com/r/india/search?q=flair%3AScheduled+-title%3ARandom&amp;restrict_sr=on&amp;sort=new&amp;t=all/#sd)[Science &amp; Tech.](http://bb.reddit.com/r/india/#bb)[Self Posts](http://ss.reddit.com/r/india/#ss)\\n\\n&gt; **Disable**[Hide Politics and Policy](http://hp.reddit.com/r/india/#yy)[Hide AdBlocker Unfriendly](http://ab.reddit.com/r/india/#ab)  \\n  \\n\\n\\n#Welcome to \\\\/r/India\\n1. [What is Reddit?](https://www.reddit.com/wiki/reddit_101)\\n2. [Reddit India Wiki](http://www.reddit.com/r/india/wiki/index)\\n3. [Follow us on Twitter - @RedditIndia](https://twitter.com/RedditIndia)\\n4. [All India related sub-reddits](http://www.reddit.com/r/india/wiki/related_subreddits)\\n\\n#Requests\\n1. Please see [this](http://www.reddit.com/r/india/wiki/requests) for further details.\\n2. Do read the **[Reddiquette](http://www.reddit.com/help/reddiquette)** and refrain from personal/vindictive attacks while commenting.\\n3. Please provide **[translations](http://www.reddit.com/r/india/comments/eu3nb/a_suggestion_for_rindia/c1ayhxr)** if comment in languages other than English.\\n4. Please use spoiler tags where needed. `[](#s \"Modi\")` becomes [](#s \"PM\").\\n\\n#Community\\n\\n1. [Travel Information](http://www.reddit.com/r/india/wiki/travel_information)\\n2. [State of the Week Threads](http://www.reddit.com/r/india/wiki/state_of_the_week)\\n3. [IRC](http://webchat.freenode.net/?channels=##rindia)\\n4. [Special mentions](http://www.reddit.com/r/india/wiki/contributors)\\n5. [Useful Posts by Redditors](https://www.reddit.com/r/india/wiki/useful_posts)\\n\\n\\n&gt;####Avoid duplicates: Check /r/india/new',\n",
       "  'description_html': '&lt;!-- SC_OFF --&gt;&lt;div class=\"md\"&gt;&lt;h3&gt;We are looking for additional moderators. If you believe you can help, apply &lt;a href=\"https://www.reddit.com/message/compose?to=%2Fr%2Findia\"&gt;via modmail&lt;/a&gt;&lt;/h3&gt;\\n\\n&lt;h3&gt;&lt;a href=\"https://www.reddit.com/r/India/wiki/rules\"&gt;r/India Rules&lt;/a&gt;&lt;/h3&gt;\\n\\n&lt;h3&gt;&lt;a href=\"https://www.pushbullet.com/channel?tag=redditindia\"&gt;PushBullet Notifications&lt;/a&gt;&lt;/h3&gt;\\n\\n&lt;h3&gt;&lt;a href=\"https://discord.gg/6V29X7f\"&gt;r/India Discord Server&lt;/a&gt;&lt;/h3&gt;\\n\\n&lt;h3&gt;&lt;a href=\"https://www.reddit.com/r/india/comments/b27sx9/scheduled_threads/\"&gt;Scheduled threads&lt;/a&gt;&lt;/h3&gt;\\n\\n&lt;h3&gt;&lt;a href=\"https://twitter.com/redditindia\"&gt;r/India twitter&lt;/a&gt;&lt;/h3&gt;\\n\\n&lt;h1&gt;Filters &amp;amp; Hot Topics:&lt;/h1&gt;\\n\\n&lt;blockquote&gt;\\n&lt;p&gt;&lt;strong&gt;Enable&lt;/strong&gt;&lt;a href=\"http://www.reddit.com/r/india/#aa\"&gt;All&lt;/a&gt;&lt;a href=\"http://yy.reddit.com/r/india/#yy\"&gt;Non-Political&lt;/a&gt;&lt;a href=\"http://xx.reddit.com/r/india/#xx\"&gt;Politics&lt;/a&gt;&lt;a href=\"http://zz.reddit.com/r/india/#zz\"&gt;[R]eddiquette&lt;/a&gt;&lt;a href=\"https://am.reddit.com/r/india/search?q=flair%3AAMA&amp;amp;sort=new&amp;amp;restrict_sr=on/#am\"&gt;AMA&lt;/a&gt;&lt;a href=\"https://sd.reddit.com/r/india/search?q=flair%3AScheduled+-title%3ARandom&amp;amp;restrict_sr=on&amp;amp;sort=new&amp;amp;t=all/#sd\"&gt;Scheduled&lt;/a&gt;&lt;a href=\"http://bb.reddit.com/r/india/#bb\"&gt;Science &amp;amp; Tech.&lt;/a&gt;&lt;a href=\"http://ss.reddit.com/r/india/#ss\"&gt;Self Posts&lt;/a&gt;&lt;/p&gt;\\n\\n&lt;p&gt;&lt;strong&gt;Disable&lt;/strong&gt;&lt;a href=\"http://hp.reddit.com/r/india/#yy\"&gt;Hide Politics and Policy&lt;/a&gt;&lt;a href=\"http://ab.reddit.com/r/india/#ab\"&gt;Hide AdBlocker Unfriendly&lt;/a&gt;  &lt;/p&gt;\\n&lt;/blockquote&gt;\\n\\n&lt;h1&gt;Welcome to /r/India&lt;/h1&gt;\\n\\n&lt;ol&gt;\\n&lt;li&gt;&lt;a href=\"https://www.reddit.com/wiki/reddit_101\"&gt;What is Reddit?&lt;/a&gt;&lt;/li&gt;\\n&lt;li&gt;&lt;a href=\"http://www.reddit.com/r/india/wiki/index\"&gt;Reddit India Wiki&lt;/a&gt;&lt;/li&gt;\\n&lt;li&gt;&lt;a href=\"https://twitter.com/RedditIndia\"&gt;Follow us on Twitter - @RedditIndia&lt;/a&gt;&lt;/li&gt;\\n&lt;li&gt;&lt;a href=\"http://www.reddit.com/r/india/wiki/related_subreddits\"&gt;All India related sub-reddits&lt;/a&gt;&lt;/li&gt;\\n&lt;/ol&gt;\\n\\n&lt;h1&gt;Requests&lt;/h1&gt;\\n\\n&lt;ol&gt;\\n&lt;li&gt;Please see &lt;a href=\"http://www.reddit.com/r/india/wiki/requests\"&gt;this&lt;/a&gt; for further details.&lt;/li&gt;\\n&lt;li&gt;Do read the &lt;strong&gt;&lt;a href=\"http://www.reddit.com/help/reddiquette\"&gt;Reddiquette&lt;/a&gt;&lt;/strong&gt; and refrain from personal/vindictive attacks while commenting.&lt;/li&gt;\\n&lt;li&gt;Please provide &lt;strong&gt;&lt;a href=\"http://www.reddit.com/r/india/comments/eu3nb/a_suggestion_for_rindia/c1ayhxr\"&gt;translations&lt;/a&gt;&lt;/strong&gt; if comment in languages other than English.&lt;/li&gt;\\n&lt;li&gt;Please use spoiler tags where needed. &lt;code&gt;[](#s &amp;quot;Modi&amp;quot;)&lt;/code&gt; becomes &lt;a href=\"#s\" title=\"PM\"&gt;&lt;/a&gt;.&lt;/li&gt;\\n&lt;/ol&gt;\\n\\n&lt;h1&gt;Community&lt;/h1&gt;\\n\\n&lt;ol&gt;\\n&lt;li&gt;&lt;a href=\"http://www.reddit.com/r/india/wiki/travel_information\"&gt;Travel Information&lt;/a&gt;&lt;/li&gt;\\n&lt;li&gt;&lt;a href=\"http://www.reddit.com/r/india/wiki/state_of_the_week\"&gt;State of the Week Threads&lt;/a&gt;&lt;/li&gt;\\n&lt;li&gt;&lt;a href=\"http://webchat.freenode.net/?channels=##rindia\"&gt;IRC&lt;/a&gt;&lt;/li&gt;\\n&lt;li&gt;&lt;a href=\"http://www.reddit.com/r/india/wiki/contributors\"&gt;Special mentions&lt;/a&gt;&lt;/li&gt;\\n&lt;li&gt;&lt;a href=\"https://www.reddit.com/r/india/wiki/useful_posts\"&gt;Useful Posts by Redditors&lt;/a&gt;&lt;/li&gt;\\n&lt;/ol&gt;\\n\\n&lt;blockquote&gt;\\n&lt;h4&gt;Avoid duplicates: Check &lt;a href=\"/r/india/new\"&gt;/r/india/new&lt;/a&gt;&lt;/h4&gt;\\n&lt;/blockquote&gt;\\n&lt;/div&gt;&lt;!-- SC_ON --&gt;',\n",
       "  'disable_contributor_requests': False,\n",
       "  'display_name': 'india',\n",
       "  'display_name_prefixed': 'r/india',\n",
       "  'emojis_custom_size': [32, 32],\n",
       "  'emojis_enabled': True,\n",
       "  'free_form_reports': False,\n",
       "  'has_menu_widget': True,\n",
       "  'header_img': 'https://b.thumbs.redditmedia.com/T6sjvJdYa7Jk2BMAEvo5blkgcERmxYCYPrCEyfm-AJk.png',\n",
       "  'header_size': [353, 80],\n",
       "  'header_title': 'the front-page of India',\n",
       "  'hide_ads': False,\n",
       "  'icon_img': 'https://b.thumbs.redditmedia.com/WoSMQXqqmdy4J7UKa67YWX1ylVWs7So801pH5dQND2A.png',\n",
       "  'icon_size': [256, 256],\n",
       "  'id': '2qh1q',\n",
       "  'is_chat_post_feature_enabled': True,\n",
       "  'is_crosspostable_subreddit': None,\n",
       "  'is_enrolled_in_new_modmail': None,\n",
       "  'key_color': '#7e53c1',\n",
       "  'lang': 'en',\n",
       "  'link_flair_enabled': True,\n",
       "  'link_flair_position': 'left',\n",
       "  'mobile_banner_image': '',\n",
       "  'name': 't5_2qh1q',\n",
       "  'notification_level': None,\n",
       "  'original_content_tag_enabled': True,\n",
       "  'over18': False,\n",
       "  'primary_color': '#ff9933',\n",
       "  'public_description': 'The Official Subreddit for India',\n",
       "  'public_description_html': '&lt;!-- SC_OFF --&gt;&lt;div class=\"md\"&gt;&lt;p&gt;The Official Subreddit for India&lt;/p&gt;\\n&lt;/div&gt;&lt;!-- SC_ON --&gt;',\n",
       "  'public_traffic': False,\n",
       "  'quarantine': False,\n",
       "  'restrict_commenting': False,\n",
       "  'restrict_posting': True,\n",
       "  'show_media': True,\n",
       "  'show_media_preview': False,\n",
       "  'spoilers_enabled': True,\n",
       "  'submission_type': 'any',\n",
       "  'submit_link_label': '',\n",
       "  'submit_text': '* Make sure to read through /r/india/wiki/rules before posting.\\n* Please browse /r/india/new or [search](https://www.reddit.com/r/india/search?q=&amp;sort=new&amp;restrict_sr=on) before submitting links in order to avoid duplicates.\\n* Please do not editorialise the submission title. Copy-and-paste the title from the article directly. See our rules for details.\\n* Remember to [flair/tag](https://www.reddit.com/r/india/wiki/rules#wiki_post_flairs) your post after submitting it!',\n",
       "  'submit_text_html': '&lt;!-- SC_OFF --&gt;&lt;div class=\"md\"&gt;&lt;ul&gt;\\n&lt;li&gt;Make sure to read through &lt;a href=\"/r/india/wiki/rules\"&gt;/r/india/wiki/rules&lt;/a&gt; before posting.&lt;/li&gt;\\n&lt;li&gt;Please browse &lt;a href=\"/r/india/new\"&gt;/r/india/new&lt;/a&gt; or &lt;a href=\"https://www.reddit.com/r/india/search?q=&amp;amp;sort=new&amp;amp;restrict_sr=on\"&gt;search&lt;/a&gt; before submitting links in order to avoid duplicates.&lt;/li&gt;\\n&lt;li&gt;Please do not editorialise the submission title. Copy-and-paste the title from the article directly. See our rules for details.&lt;/li&gt;\\n&lt;li&gt;Remember to &lt;a href=\"https://www.reddit.com/r/india/wiki/rules#wiki_post_flairs\"&gt;flair/tag&lt;/a&gt; your post after submitting it!&lt;/li&gt;\\n&lt;/ul&gt;\\n&lt;/div&gt;&lt;!-- SC_ON --&gt;',\n",
       "  'submit_text_label': '',\n",
       "  'subreddit_type': 'public',\n",
       "  'subscribers': 319003,\n",
       "  'suggested_comment_sort': None,\n",
       "  'title': 'India: United We Stand',\n",
       "  'url': '/r/india/',\n",
       "  'user_can_flair_in_sr': True,\n",
       "  'user_flair_background_color': None,\n",
       "  'user_flair_css_class': None,\n",
       "  'user_flair_enabled_in_sr': True,\n",
       "  'user_flair_position': 'right',\n",
       "  'user_flair_richtext': [],\n",
       "  'user_flair_template_id': None,\n",
       "  'user_flair_text': None,\n",
       "  'user_flair_text_color': None,\n",
       "  'user_flair_type': 'text',\n",
       "  'user_has_favorited': False,\n",
       "  'user_is_banned': False,\n",
       "  'user_is_contributor': False,\n",
       "  'user_is_moderator': False,\n",
       "  'user_is_muted': False,\n",
       "  'user_is_subscriber': False,\n",
       "  'user_sr_flair_enabled': True,\n",
       "  'user_sr_theme_enabled': True,\n",
       "  'videostream_links_count': 1,\n",
       "  'whitelist_status': 'all_ads',\n",
       "  'wiki_enabled': True,\n",
       "  'wls': 6},\n",
       " 'kind': 't5'}"
      ]
     },
     "execution_count": 62,
     "metadata": {},
     "output_type": "execute_result"
    }
   ],
   "source": [
    "api_call.json()"
   ]
  },
  {
   "cell_type": "markdown",
   "metadata": {},
   "source": [
    "### Trying out PRAW API Libary\n",
    "While trying to research the way to access different parts of the site using the reddit API, I stumbled across PRAW (Python Reddit API Wrapper) which offers simple and intuitive methods and functionalities to do the same. Since it is a popular package and used and recommended in reddit forums, I decided to go ahead with it instead of trying out things with the base API uris. "
   ]
  },
  {
   "cell_type": "code",
   "execution_count": 63,
   "metadata": {
    "collapsed": true
   },
   "outputs": [],
   "source": [
    "reddit = praw.Reddit(client_id=config['app_client_id'],\n",
    "                     client_secret=config['app_secret'],\n",
    "                     user_agent=\"ChangeMeClient/0.1 by \" + config['username'])"
   ]
  },
  {
   "cell_type": "code",
   "execution_count": 83,
   "metadata": {},
   "outputs": [
    {
     "name": "stdout",
     "output_type": "stream",
     "text": [
      "One life for another, very weird statistics btw\n",
      "Coronavirus\n",
      "g1vrg5\n",
      "Given the negative growth in employment and consumption in the rural economy, the 2020 Union Budget seems like a cruel joke on the plight of the poor, in general, and women, in particular.\n",
      "Policy/Economy\n",
      "g1vnmq\n"
     ]
    }
   ],
   "source": [
    "for submission in reddit.subreddit('India').new(limit=2):\n",
    "    print(submission.title)\n",
    "    #print(submission.selftext)\n",
    "    comments = submission.comments.list()\n",
    "    print(submission.link_flair_text)\n",
    "    print(submission.id)\n",
    "    submission.\n",
    "    #print(submission.)"
   ]
  },
  {
   "cell_type": "code",
   "execution_count": 43,
   "metadata": {
    "collapsed": true
   },
   "outputs": [
    {
     "data": {
      "text/plain": [
       "\"###[Covid-19 Fundraisers & Donation Links](https://amnesty.org.in/support-indias-most-vulnerable-fight-covid-19-a-list-of-fundraisers-you-can-donate-to/) via Amnesty International\\n* [This link covers](https://amnesty.org.in/support-indias-most-vulnerable-fight-covid-19-a-list-of-fundraisers-you-can-donate-to/) Migrant Workers Day-Labourers, Other Vulnerable Groups, Urban Poor, Transgender Community, Waste-pickers and Sanitation Workers, Healthcare Workers and Doctors, Older Persons & Children and Animal Care \\n\\n------------------------------------------------------------------------------------------------------\\n\\n#####Indian Goverment\\n* [Official Twitter Collection of Indian Govt. Communications](https://twitter.com/i/events/1240662046280048646)\\n* [State and District Wise Details of Cases in India](https://www.mohfw.gov.in/pdf/DistrictWiseList324.pdf)\\n* All India Helplines: 1075 (Toll Free) | 1930 (Toll Free) | 1944 (Northeast India Only) | +911123978046 | Email ID: ncov2019@gov.in \\n* [State Helpline Numbers](https://www.mohfw.gov.in/pdf/coronvavirushelplinenumber.pdf)\\n* [Test Centers List](https://covid.icmr.org.in/index.php/testing-facilities)\\n\\n#####State Specific Threads via Reddit community\\n* [Andaman &amp; Nicobar, Lakshadweep,  Puducherry, Dadra &amp; Nagar Haveli, Daman &amp; Diu](https://www.reddit.com/r/CoronaIndia/comments/fqmry7/coronavirus_covid19_megathread_news_and_updates/) via u/TheDosaMan\\n* [Bihar](https://www.reddit.com/r/india/comments/ftky3g/covid19_every_updates_from_bihar/) via u/FilmmakerFarhan\\n* [Delhi](https://www.reddit.com/r/india/comments/fu2v1h/all_covid_19_updates_of_delhi/) via u/ppccbba\\n* [Gujarat](https://www.reddit.com/r/india/comments/fw07cd/covid19_gujarat_updates) via u/helvetikka\\n* [Karnataka](https://www.reddit.com/r/india/comments/fpv4xk/karnataka_covid19_updates/) via u/TheClassicGallery\\n* [Kerala](https://www.reddit.com/r/Kerala/comments/fgc8m6/coronavirus_covid19_megathread_news_and_updates/) via u/nithinvnath\\n* [Madhya Pradesh](https://www.reddit.com/r/india/comments/fpt2jw/mp_covid19_megathread/) via u/maardon_bhenji\\n* [Maharashtra](https://www.reddit.com/r/india/comments/fq2vqj/covid19_updates_for_maharashtra/) via u/hrishidev\\n* [Odisha](https://www.reddit.com/r/india/comments/frstw5/covid19all_updates_for_odisha) via u/aviakki1\\n* [Nagaland](https://www.reddit.com/user/-ImSoDone-/comments/fqpnov/covid19_updates_nagaland/) via u/-ImSoDone-\\n* [Punjab](https://www.reddit.com/r/india/comments/fsbwuj/punjab_covid_updates_thread/) via u/TheAltChemist\\n* [Rajasthan](https://www.reddit.com/r/pinkcity/comments/fps590/covid19_updates_for_rajasthan/) via /u/isaacseaman\\n* [Tamil Nadu](https://www.reddit.com/r/Chennai/comments/fr62oj/covid19_daily_news_updates/) via u/ughalright\\n* [Telangana](https://www.reddit.com/r/india/comments/fqn8jf/covid19_all_updates_in_telangana/) via u/lifehacker25\\n* [Uttar Pradesh](https://www.reddit.com/r/india/comments/fptwqz/covid19_all_updates_in_uttar_pradesh/) via u/ppccbba\\n* [Uttarakhand](https://www.reddit.com/r/india/comments/fs95z1/covid19_updates_uttarakhand_edition/) via u/leopard_dopy\\n* [West Bengal](https://www.reddit.com/r/kolkata/comments/fi5hqd/covid19_updates/) via /u/ppatra\\n* [*More States are being Added*]\\n\\n#####Coronavirus Trackers, News, Updates\\n\\n* [Case Numbers via Indian Govt.](https://www.mohfw.gov.in/)\\n* [Case Numbers and Map via NDTV](https://www.ndtv.com/coronavirus/india-covid-19-outbreak-map)\\n* [Covid19India.org](https://www.covid19india.org)\\n* r/Coronavirus\\n* r/worldnews\\n* r/COVID19Positive for Covid-19 Patients\\n\\n#####Useful Guides, Precautions, Helpful Tips, Self Assessment\\n* [Safety Tips](https://www.who.int/emergencies/diseases/novel-coronavirus-2019/advice-for-public)\\n* [Coronavirus condition overview](https://www.who.int/health-topics/coronavirus)\\n* [Coronavirus Q&amp;A](https://www.who.int/news-room/q-a-detail/q-a-coronaviruses)\\n* [How to Protect Yourself and Prepare for the Coronavirus](https://www.nytimes.com/article/prepare-for-coronavirus.html)\\n* [Myth Busters via WHO](https://www.who.int/emergencies/diseases/novel-coronavirus-2019/advice-for-public/myth-busters)\\n* [Self Assessment Tool for Covid19](https://coronavirus.heallify.com/)\\n\\n#####Coronavirus (Covid-19) Multi-Lingual Shareable Resources Wiki \\n* [Wiki Thread](https://www.reddit.com/r/india/comments/fo0xj9/coronavirus_covid19_multilingual_resources_wiki/)\\n\\n* [Assamese](https://1drv.ms/u/s!AoYOmN7lWek1gn1U2sNswTmrdyym?e=qtG6Hy) | [Bengali](https://1drv.ms/u/s!AoYOmN7lWek1gkqMhFrcLJNn_GXA?e=C4Org5) |\\n[English](https://1drv.ms/u/s!AoYOmN7lWek1gWSxZMTO6BKKKYGN?e=sgYupr) | [Gujarati](https://1drv.ms/u/s!AoYOmN7lWek1ght7ez9gamQZdNuN?e=doJZmj) | \\n[Hindi](https://1drv.ms/u/s!AoYOmN7lWek1gWNzzpIljrP9jQke?e=bu6Eog) | [Kannada](https://1drv.ms/u/s!AoYOmN7lWek1ggJi4cS2y1ZULZol?e=s43xHF) | \\n[Konkani](https://1drv.ms/u/s!AoYOmN7lWek1gmRJkbslNMDc-1s1?e=gpDqma) | [Malayalam](https://1drv.ms/u/s!AoYOmN7lWek1gmeU30HlPVT-0Cqo?e=dNhg3u) | \\n[Marathi](https://1drv.ms/u/s!AoYOmN7lWek1giu0e8l9SbT27Ac_?e=eeNuHi) | [Marwari](https://1drv.ms/u/s!AoYOmN7lWek1gXxP8R5CPzEt5zhp?e=HWuXnt) | \\n[Oriya](https://1drv.ms/u/s!AoYOmN7lWek1gwcrC-WB195OyuXd?e=ozTVA4) | [Punjabi](https://1drv.ms/u/s!AoYOmN7lWek1gjxTSvU761F9Hzou?e=9gjaqg) | \\n[Tamil](https://1drv.ms/u/s!AoYOmN7lWek1gglvLHFkHSsMZgTo?e=YhLNRo) | [Telegu](https://1drv.ms/f/s!AoYOmN7lWek1gkEvVG2WLij6Up78) | \\n[Urdu](https://1drv.ms/u/s!AoYOmN7lWek1gwwpU8N-i2_x9Z5n?e=8fUHqi)\\n\\n#####r/India Community\\n* [COVID-19 India tracker](https://www.covid19india.org/) via u/splitladoo\\n* [Crowdsourced handbook of India specific data and resources](https://covidindiasupport.com/main) via u/lilhuman0\\n* [Google Spreadsheet of Statewise infections](https://docs.google.com/spreadsheets/d/1uKqaxMd5gkghBKMmp_fbnLRFLdic_Kv-i_802f77Ih0/edit#gid=0) via /u/lord_blood_raven\\n\\n#####Precautions for prevention of Corona Virus\\n^Currently ^there ^is ^no ^vaccine ^available ^to ^protect ^against ^human ^corona ^virus ^but ^we ^can ^reduce ^the ^transmission ^of ^virus ^by ^taking ^following ^precautions:\\n\\n* Do\\n * Wash your hands regularly for 20 seconds, with soap and water or alcohol-based hand rub\\n * Cover your nose and mouth with a disposable tissue or flexed elbow when you cough or sneeze\\n * Avoid close contact (1 meter or 3 feet) with people who are unwell\\n * Stay home and self-isolate from others in the household if you feel unwell\\n* Don't\\n * Touch your eyes, nose, or mouth if your hands are not clean\\n\\n#####How to Quarantine Yourself via [New York Times](https://www.nytimes.com/2020/03/06/health/self-quarantine-coronavirus.html)\\n^If ^you’re ^returning ^from ^an ^area ^that’s ^had ^a ^coronavirus ^outbreak, ^or ^if ^you’ve ^been ^in ^close ^contact ^with ^someone ^who ^tests ^positive, ^you ^may ^be ^asked ^to ^isolate ^yourself ^at ^home ^for ^two ^weeks, ^the ^presumed ^incubation ^period ^for ^the ^coronavirus.\\n\\n^It’s ^not ^easy ^to ^lock ^yourself ^away ^from ^your ^family ^and ^friends. ^These ^are ^the ^basics.\\n\\n1. **ISOLATION**: If you are infected or have been exposed to the coronavirus, you must seclude yourself from your partner, your housemates, your children, your older aunt and even your pets. If you don’t have your own room, one should be designated for your exclusive use. No visitors unless it’s absolutely essential. Don’t take the bus, subway or even a taxi.\\n\\n2. **MASKS**: If you must be around other people — in your home, or in a car, because you’re on your way to see a doctor (and only after you’ve called first) — wear a mask. Everyone else should, too.\\n\\n3. **HYGIENE**: Cover your mouth and nose with a tissue to cough or sneeze, and discard it in a lined trash can. Immediately wash your hands with soap and water for at least 20 seconds. You can use sanitizer, but soap and water are preferred. Wash your hands frequently and avoid touching your eyes, nose and mouth, if you haven’t just washed them.\\n\\n4. **DISINFECTING**: Don’t share dishes, drinking glasses, eating utensils, towels or bedding. Wash these items after you use them. Use a household cleaner to wipe down countertops, tabletops, doorknobs, bathrooms fixtures, toilets, phones, keyboards, tablets and bedside tables. That also goes for any surfaces that may be contaminated by bodily fluids.\\n\\n5. **HOUSEHOLD MEMBERS**: When around the patient, wear a face mask, and add gloves if you’re touching anything that might carry the patient’s bodily fluids. Dispose of the mask and gloves immediately. The older members and those with chronic medical conditions should minimize contact with the secluded individual.\\n\\n#####Share your Idle CPU/GPU Power towards find solutions for Covid-19\\n\\n&gt;Do you have a CPU/GPU sitting at home, not doing anything? If yes, and you are willing to let it work for drug discovery, please check out folding at home. The following text is from /r/pcmasterrace\\nJoin us and donate your unused GPU and CPU computing power to fight against Coronavirus (and several other illnesses, like Cancer, Parkinson's, etc). To download [CLICK HERE](https://foldingathome.org/start-folding/). \\n\\n&gt;To learn more about the project, or if you need more instructions on how to run it, check out https://pcmasterrace.org/folding.\\n\\n&amp;nbsp;\\n\\nOlder Threads: [Part I](https://www.reddit.com/r/india/comments/f2kaxr/covid19_megathread_news_and_updates/) | [Part II](https://www.reddit.com/r/india/comments/fkttm7/coronavirus_covid19_megathread_news_and_updates_ii/)\""
      ]
     },
     "execution_count": 43,
     "metadata": {},
     "output_type": "execute_result"
    }
   ],
   "source": [
    "submission.selftext"
   ]
  },
  {
   "cell_type": "code",
   "execution_count": 42,
   "metadata": {
    "collapsed": true
   },
   "outputs": [
    {
     "data": {
      "text/plain": [
       "'###[Covid-19 Fundraisers & Donation Links](https://amnesty.org.in/support-indias-most-vulnerable-fight-covid-19-a-list-of-fundraisers-you-can-donate-to/) via Amnesty International\\n* [This link covers](https://amnesty.org.in/support-indias-most-vulnerable-fight-covid-19-a-list-of-fundraisers-you-can-donate-to/) Migrant Workers Day-Labourers, Other Vulnerable Groups, Urban Poor, Transgender Community, Waste-pickers and Sanitation Workers, Healthcare Workers and Doctors, Older Persons & Children and Animal Care \\n\\n------------------------------------------------------------------------------------------------------\\n\\n**I am looking for volunteers** who are willing to create and update their state level threads for the time of lockdown. Updates will mostly consist of latest news in those states with respect to Coronavirus and ongoing lockdown.\\n\\n#####🔴 Require Volunteers for\\nJammu & Kashmir and Ladakh | Sikkim | Manipur | Mizoram | Assam | Meghalaya | Tripura | Arunachal Pradesh | Jharkhand | Goa | Chattisgarh | Haryana | Himachal Pradesh | Nagaland | Andhra Pradesh\\n\\n*Please reply under this comment with the states you can update daily. Daily update will be a responsibility, so please only volunteer if you think you will have time to maintain it in coming weeks. Thanks.*'"
      ]
     },
     "execution_count": 42,
     "metadata": {},
     "output_type": "execute_result"
    }
   ],
   "source": [
    "comments[0].body"
   ]
  },
  {
   "cell_type": "markdown",
   "metadata": {},
   "source": [
    "## Premise behind data collection\n",
    "The data which has been collected is based on two ideas:\n",
    "1. The flair of the submission/post is most likely primarily linked to the text of the submission and the topic it encompasses. For this reason, it is important to gather the title, body, and a few comments to gather sufficient text for both analysis and classifier needs.\n",
    "2. While other factors may be less intuitively related to the flair, there may be an existing pattern linking the various metrics and tags to a particular flair."
   ]
  },
  {
   "cell_type": "markdown",
   "metadata": {},
   "source": [
    "### Retrieving and storing data from India subreddit\n",
    "After figuring out the way to retrieve different parts of data from a subreddit using the PRAW library, the next step is to gather some test data for both analysis and the classfier.\n",
    "This initial approach focusses primarily on title, five comments and flair."
   ]
  },
  {
   "cell_type": "code",
   "execution_count": 64,
   "metadata": {
    "collapsed": true
   },
   "outputs": [],
   "source": [
    "import pandas as pd"
   ]
  },
  {
   "cell_type": "code",
   "execution_count": 89,
   "metadata": {
    "collapsed": true
   },
   "outputs": [],
   "source": [
    "reddit_india_data = pd.DataFrame()"
   ]
  },
  {
   "cell_type": "code",
   "execution_count": 90,
   "metadata": {
    "collapsed": true
   },
   "outputs": [],
   "source": [
    "seen_ids = {}"
   ]
  },
  {
   "cell_type": "code",
   "execution_count": 91,
   "metadata": {},
   "outputs": [],
   "source": [
    "for submission in reddit.subreddit('India').hot(limit=200):\n",
    "    if submission.id not in seen_ids.keys():\n",
    "        seen_ids[submission.id] = True\n",
    "        curr_data = pd.Series({'title': submission.title, 'title_text': submission.selftext, \n",
    "                               'comments': [comment.body for comment in submission.comments.list()[:5]],\n",
    "                               'flair': submission.link_flair_text, \n",
    "                               'url': submission.url, 'id': submission.id})\n",
    "        reddit_india_data = reddit_india_data.append(curr_data, ignore_index=True)"
   ]
  },
  {
   "cell_type": "code",
   "execution_count": 93,
   "metadata": {
    "collapsed": true
   },
   "outputs": [],
   "source": [
    "for submission in reddit.subreddit('India').top(limit=200):\n",
    "    if submission.id not in seen_ids.keys():\n",
    "        seen_ids[submission.id] = True\n",
    "        curr_data = pd.Series({'title': submission.title, 'title_text': submission.selftext, \n",
    "                               'comments': [comment.body for comment in submission.comments.list()[:5]],\n",
    "                               'flair': submission.link_flair_text, \n",
    "                               'url': submission.url, 'id': submission.id})\n",
    "        reddit_india_data = reddit_india_data.append(curr_data, ignore_index=True)"
   ]
  },
  {
   "cell_type": "markdown",
   "metadata": {},
   "source": [
    "It has been observed that the top 200 and hot 200 posts share 12 posts in common, since on going through all of them only resulted in 388 records, instead of 400"
   ]
  },
  {
   "cell_type": "code",
   "execution_count": 94,
   "metadata": {},
   "outputs": [
    {
     "data": {
      "text/html": [
       "<div>\n",
       "<style scoped>\n",
       "    .dataframe tbody tr th:only-of-type {\n",
       "        vertical-align: middle;\n",
       "    }\n",
       "\n",
       "    .dataframe tbody tr th {\n",
       "        vertical-align: top;\n",
       "    }\n",
       "\n",
       "    .dataframe thead th {\n",
       "        text-align: right;\n",
       "    }\n",
       "</style>\n",
       "<table border=\"1\" class=\"dataframe\">\n",
       "  <thead>\n",
       "    <tr style=\"text-align: right;\">\n",
       "      <th></th>\n",
       "      <th>comments</th>\n",
       "      <th>flair</th>\n",
       "      <th>id</th>\n",
       "      <th>title</th>\n",
       "      <th>title_text</th>\n",
       "      <th>url</th>\n",
       "    </tr>\n",
       "  </thead>\n",
       "  <tbody>\n",
       "    <tr>\n",
       "      <th>0</th>\n",
       "      <td>[###[Covid-19 Fundraisers &amp; Donation Links](ht...</td>\n",
       "      <td>Coronavirus</td>\n",
       "      <td>fqqdsg</td>\n",
       "      <td>Coronavirus (COVID-19) Megathread - News and U...</td>\n",
       "      <td>###[Covid-19 Fundraisers &amp; Donation Links](htt...</td>\n",
       "      <td>https://www.reddit.com/r/india/comments/fqqdsg...</td>\n",
       "    </tr>\n",
       "    <tr>\n",
       "      <th>1</th>\n",
       "      <td>[I do t think we are intentionally under repor...</td>\n",
       "      <td>Politics</td>\n",
       "      <td>g17fnr</td>\n",
       "      <td>Is India underreporting the coronavirus outbre...</td>\n",
       "      <td></td>\n",
       "      <td>https://www.youtube.com/watch?v=JIhNKZOHJ74</td>\n",
       "    </tr>\n",
       "    <tr>\n",
       "      <th>2</th>\n",
       "      <td>[reminded me of that doggo meme, Is this true?...</td>\n",
       "      <td>Non-Political</td>\n",
       "      <td>g1owee</td>\n",
       "      <td>Storm in Assam, Gauhati Today</td>\n",
       "      <td></td>\n",
       "      <td>https://v.redd.it/uyyrvk4cdys41</td>\n",
       "    </tr>\n",
       "    <tr>\n",
       "      <th>3</th>\n",
       "      <td>[This is very strange since all other porn sub...</td>\n",
       "      <td>Non-Political</td>\n",
       "      <td>g1ll83</td>\n",
       "      <td>/r/IndiansGoneWild is apparently blocked in In...</td>\n",
       "      <td>Opening /r/IndiansGoneWild (NSFW) today gives ...</td>\n",
       "      <td>https://www.reddit.com/r/india/comments/g1ll83...</td>\n",
       "    </tr>\n",
       "    <tr>\n",
       "      <th>4</th>\n",
       "      <td>[WTF how much rape goes on in Delhi?!?!, Repor...</td>\n",
       "      <td>Non-Political</td>\n",
       "      <td>g1jwxm</td>\n",
       "      <td>83% drop in rape cases in Delhi during lockdown</td>\n",
       "      <td></td>\n",
       "      <td>https://www.thehindu.com/news/cities/Delhi/83-...</td>\n",
       "    </tr>\n",
       "    <tr>\n",
       "      <th>...</th>\n",
       "      <td>...</td>\n",
       "      <td>...</td>\n",
       "      <td>...</td>\n",
       "      <td>...</td>\n",
       "      <td>...</td>\n",
       "      <td>...</td>\n",
       "    </tr>\n",
       "    <tr>\n",
       "      <th>383</th>\n",
       "      <td>[No matter what crappy news comes elsewhere, i...</td>\n",
       "      <td>Science/Technology</td>\n",
       "      <td>ctyr9r</td>\n",
       "      <td>ISRO releases photo of moon taken by Chandraya...</td>\n",
       "      <td></td>\n",
       "      <td>https://i.redd.it/zavrpg8hn0i31.png</td>\n",
       "    </tr>\n",
       "    <tr>\n",
       "      <th>384</th>\n",
       "      <td>[Ideas are bulletproof, \"There are many forms ...</td>\n",
       "      <td>Politics</td>\n",
       "      <td>dc6cqr</td>\n",
       "      <td>An ode to Gandhi ( from twitter )</td>\n",
       "      <td></td>\n",
       "      <td>https://i.redd.it/mai3yiobm2q31.jpg</td>\n",
       "    </tr>\n",
       "    <tr>\n",
       "      <th>385</th>\n",
       "      <td>[Hey OP, you can't post a picture of my father...</td>\n",
       "      <td>Politics</td>\n",
       "      <td>bryt3s</td>\n",
       "      <td>Every home today morning</td>\n",
       "      <td></td>\n",
       "      <td>https://imgur.com/XHyphiN</td>\n",
       "    </tr>\n",
       "    <tr>\n",
       "      <th>386</th>\n",
       "      <td>[News Article:\\n\\n&gt; https://www.indiatoday.in/...</td>\n",
       "      <td>[R]eddiquette</td>\n",
       "      <td>bepj6a</td>\n",
       "      <td>Need all the help possible.</td>\n",
       "      <td></td>\n",
       "      <td>https://i.redd.it/t4465qnpo2t21.jpg</td>\n",
       "    </tr>\n",
       "    <tr>\n",
       "      <th>387</th>\n",
       "      <td>[In order to avoid this, doctors at some hospi...</td>\n",
       "      <td>Non-Political</td>\n",
       "      <td>7nqq7b</td>\n",
       "      <td>Found at a hospital in India.</td>\n",
       "      <td></td>\n",
       "      <td>https://i.imgur.com/23uTpQt.jpg</td>\n",
       "    </tr>\n",
       "  </tbody>\n",
       "</table>\n",
       "<p>388 rows × 6 columns</p>\n",
       "</div>"
      ],
      "text/plain": [
       "                                              comments               flair  \\\n",
       "0    [###[Covid-19 Fundraisers & Donation Links](ht...         Coronavirus   \n",
       "1    [I do t think we are intentionally under repor...            Politics   \n",
       "2    [reminded me of that doggo meme, Is this true?...       Non-Political   \n",
       "3    [This is very strange since all other porn sub...       Non-Political   \n",
       "4    [WTF how much rape goes on in Delhi?!?!, Repor...       Non-Political   \n",
       "..                                                 ...                 ...   \n",
       "383  [No matter what crappy news comes elsewhere, i...  Science/Technology   \n",
       "384  [Ideas are bulletproof, \"There are many forms ...            Politics   \n",
       "385  [Hey OP, you can't post a picture of my father...            Politics   \n",
       "386  [News Article:\\n\\n> https://www.indiatoday.in/...       [R]eddiquette   \n",
       "387  [In order to avoid this, doctors at some hospi...       Non-Political   \n",
       "\n",
       "         id                                              title  \\\n",
       "0    fqqdsg  Coronavirus (COVID-19) Megathread - News and U...   \n",
       "1    g17fnr  Is India underreporting the coronavirus outbre...   \n",
       "2    g1owee                      Storm in Assam, Gauhati Today   \n",
       "3    g1ll83  /r/IndiansGoneWild is apparently blocked in In...   \n",
       "4    g1jwxm    83% drop in rape cases in Delhi during lockdown   \n",
       "..      ...                                                ...   \n",
       "383  ctyr9r  ISRO releases photo of moon taken by Chandraya...   \n",
       "384  dc6cqr                  An ode to Gandhi ( from twitter )   \n",
       "385  bryt3s                           Every home today morning   \n",
       "386  bepj6a                        Need all the help possible.   \n",
       "387  7nqq7b                      Found at a hospital in India.   \n",
       "\n",
       "                                            title_text  \\\n",
       "0    ###[Covid-19 Fundraisers & Donation Links](htt...   \n",
       "1                                                        \n",
       "2                                                        \n",
       "3    Opening /r/IndiansGoneWild (NSFW) today gives ...   \n",
       "4                                                        \n",
       "..                                                 ...   \n",
       "383                                                      \n",
       "384                                                      \n",
       "385                                                      \n",
       "386                                                      \n",
       "387                                                      \n",
       "\n",
       "                                                   url  \n",
       "0    https://www.reddit.com/r/india/comments/fqqdsg...  \n",
       "1          https://www.youtube.com/watch?v=JIhNKZOHJ74  \n",
       "2                      https://v.redd.it/uyyrvk4cdys41  \n",
       "3    https://www.reddit.com/r/india/comments/g1ll83...  \n",
       "4    https://www.thehindu.com/news/cities/Delhi/83-...  \n",
       "..                                                 ...  \n",
       "383                https://i.redd.it/zavrpg8hn0i31.png  \n",
       "384                https://i.redd.it/mai3yiobm2q31.jpg  \n",
       "385                          https://imgur.com/XHyphiN  \n",
       "386                https://i.redd.it/t4465qnpo2t21.jpg  \n",
       "387                    https://i.imgur.com/23uTpQt.jpg  \n",
       "\n",
       "[388 rows x 6 columns]"
      ]
     },
     "execution_count": 94,
     "metadata": {},
     "output_type": "execute_result"
    }
   ],
   "source": [
    "reddit_india_data"
   ]
  },
  {
   "cell_type": "code",
   "execution_count": 96,
   "metadata": {},
   "outputs": [],
   "source": [
    "reddit_india_data.to_excel('reddit_india_data.xlsx', index=False)"
   ]
  },
  {
   "cell_type": "markdown",
   "metadata": {},
   "source": [
    "### Gathered some basic data, getting additional columns for EDA\n",
    "The gathered data primarily consists of text associated with a submission within a subreddit.\n",
    "However, various other metrics and datapoints are associated with each submission which can help with analysis.\n",
    "That data has been gathered here and then joined with the original data on the submission 'ID' to make a combine dataset."
   ]
  },
  {
   "cell_type": "code",
   "execution_count": 122,
   "metadata": {
    "collapsed": true
   },
   "outputs": [],
   "source": [
    "additional_data = pd.DataFrame()\n",
    "\n",
    "for r_id in seen_ids.keys():\n",
    "    submission = reddit.submission(id=r_id)\n",
    "    curr_data = pd.Series({'up_count': submission.ups, 'down_count': submission.downs, \n",
    "                               'domain': submission.domain, 'category' : submission.category,\n",
    "                               'is_orig': submission.is_original_content, 'n_comm': submission.num_comments,\n",
    "                               'upvote_rat': submission.upvote_ratio, 'views': submission.view_count,\n",
    "                               'total_awards': submission.total_awards_received, 'id': submission.id})\n",
    "    \n",
    "    additional_data = additional_data.append(curr_data, ignore_index=True)"
   ]
  },
  {
   "cell_type": "code",
   "execution_count": 135,
   "metadata": {},
   "outputs": [],
   "source": [
    "#Ups, downs, domain, category, is_original_content, no. of comments, upvote ratio, view count, total awards received, is original content"
   ]
  },
  {
   "cell_type": "code",
   "execution_count": 123,
   "metadata": {},
   "outputs": [
    {
     "data": {
      "text/html": [
       "<div>\n",
       "<style scoped>\n",
       "    .dataframe tbody tr th:only-of-type {\n",
       "        vertical-align: middle;\n",
       "    }\n",
       "\n",
       "    .dataframe tbody tr th {\n",
       "        vertical-align: top;\n",
       "    }\n",
       "\n",
       "    .dataframe thead th {\n",
       "        text-align: right;\n",
       "    }\n",
       "</style>\n",
       "<table border=\"1\" class=\"dataframe\">\n",
       "  <thead>\n",
       "    <tr style=\"text-align: right;\">\n",
       "      <th></th>\n",
       "      <th>category</th>\n",
       "      <th>domain</th>\n",
       "      <th>down_count</th>\n",
       "      <th>id</th>\n",
       "      <th>is_orig</th>\n",
       "      <th>n_comm</th>\n",
       "      <th>total_awards</th>\n",
       "      <th>up_count</th>\n",
       "      <th>upvote_rat</th>\n",
       "      <th>views</th>\n",
       "    </tr>\n",
       "  </thead>\n",
       "  <tbody>\n",
       "    <tr>\n",
       "      <th>0</th>\n",
       "      <td>None</td>\n",
       "      <td>self.india</td>\n",
       "      <td>0.0</td>\n",
       "      <td>fqqdsg</td>\n",
       "      <td>0.0</td>\n",
       "      <td>10949.0</td>\n",
       "      <td>2.0</td>\n",
       "      <td>416.0</td>\n",
       "      <td>0.97</td>\n",
       "      <td>None</td>\n",
       "    </tr>\n",
       "    <tr>\n",
       "      <th>1</th>\n",
       "      <td>None</td>\n",
       "      <td>youtube.com</td>\n",
       "      <td>0.0</td>\n",
       "      <td>g17fnr</td>\n",
       "      <td>0.0</td>\n",
       "      <td>136.0</td>\n",
       "      <td>0.0</td>\n",
       "      <td>207.0</td>\n",
       "      <td>0.79</td>\n",
       "      <td>None</td>\n",
       "    </tr>\n",
       "    <tr>\n",
       "      <th>2</th>\n",
       "      <td>None</td>\n",
       "      <td>v.redd.it</td>\n",
       "      <td>0.0</td>\n",
       "      <td>g1owee</td>\n",
       "      <td>0.0</td>\n",
       "      <td>108.0</td>\n",
       "      <td>0.0</td>\n",
       "      <td>1950.0</td>\n",
       "      <td>0.99</td>\n",
       "      <td>None</td>\n",
       "    </tr>\n",
       "    <tr>\n",
       "      <th>3</th>\n",
       "      <td>None</td>\n",
       "      <td>self.india</td>\n",
       "      <td>0.0</td>\n",
       "      <td>g1ll83</td>\n",
       "      <td>0.0</td>\n",
       "      <td>483.0</td>\n",
       "      <td>0.0</td>\n",
       "      <td>1119.0</td>\n",
       "      <td>0.96</td>\n",
       "      <td>None</td>\n",
       "    </tr>\n",
       "    <tr>\n",
       "      <th>4</th>\n",
       "      <td>None</td>\n",
       "      <td>thehindu.com</td>\n",
       "      <td>0.0</td>\n",
       "      <td>g1jwxm</td>\n",
       "      <td>0.0</td>\n",
       "      <td>119.0</td>\n",
       "      <td>0.0</td>\n",
       "      <td>1081.0</td>\n",
       "      <td>0.97</td>\n",
       "      <td>None</td>\n",
       "    </tr>\n",
       "  </tbody>\n",
       "</table>\n",
       "</div>"
      ],
      "text/plain": [
       "  category        domain  down_count      id  is_orig   n_comm  total_awards  \\\n",
       "0     None    self.india         0.0  fqqdsg      0.0  10949.0           2.0   \n",
       "1     None   youtube.com         0.0  g17fnr      0.0    136.0           0.0   \n",
       "2     None     v.redd.it         0.0  g1owee      0.0    108.0           0.0   \n",
       "3     None    self.india         0.0  g1ll83      0.0    483.0           0.0   \n",
       "4     None  thehindu.com         0.0  g1jwxm      0.0    119.0           0.0   \n",
       "\n",
       "   up_count  upvote_rat views  \n",
       "0     416.0        0.97  None  \n",
       "1     207.0        0.79  None  \n",
       "2    1950.0        0.99  None  \n",
       "3    1119.0        0.96  None  \n",
       "4    1081.0        0.97  None  "
      ]
     },
     "execution_count": 123,
     "metadata": {},
     "output_type": "execute_result"
    }
   ],
   "source": [
    "additional_data.head()"
   ]
  },
  {
   "cell_type": "code",
   "execution_count": 124,
   "metadata": {},
   "outputs": [
    {
     "data": {
      "text/plain": [
       "(388, 10)"
      ]
     },
     "execution_count": 124,
     "metadata": {},
     "output_type": "execute_result"
    }
   ],
   "source": [
    "additional_data.shape"
   ]
  },
  {
   "cell_type": "code",
   "execution_count": 129,
   "metadata": {},
   "outputs": [],
   "source": [
    "complete_data = reddit_india_data.join(additional_data.set_index('id'), on='id')"
   ]
  },
  {
   "cell_type": "code",
   "execution_count": 130,
   "metadata": {
    "collapsed": true
   },
   "outputs": [
    {
     "data": {
      "text/html": [
       "<div>\n",
       "<style scoped>\n",
       "    .dataframe tbody tr th:only-of-type {\n",
       "        vertical-align: middle;\n",
       "    }\n",
       "\n",
       "    .dataframe tbody tr th {\n",
       "        vertical-align: top;\n",
       "    }\n",
       "\n",
       "    .dataframe thead th {\n",
       "        text-align: right;\n",
       "    }\n",
       "</style>\n",
       "<table border=\"1\" class=\"dataframe\">\n",
       "  <thead>\n",
       "    <tr style=\"text-align: right;\">\n",
       "      <th></th>\n",
       "      <th>comments</th>\n",
       "      <th>flair</th>\n",
       "      <th>id</th>\n",
       "      <th>title</th>\n",
       "      <th>title_text</th>\n",
       "      <th>url</th>\n",
       "      <th>category</th>\n",
       "      <th>domain</th>\n",
       "      <th>down_count</th>\n",
       "      <th>is_orig</th>\n",
       "      <th>n_comm</th>\n",
       "      <th>total_awards</th>\n",
       "      <th>up_count</th>\n",
       "      <th>upvote_rat</th>\n",
       "      <th>views</th>\n",
       "    </tr>\n",
       "  </thead>\n",
       "  <tbody>\n",
       "    <tr>\n",
       "      <th>0</th>\n",
       "      <td>[###[Covid-19 Fundraisers &amp; Donation Links](ht...</td>\n",
       "      <td>Coronavirus</td>\n",
       "      <td>fqqdsg</td>\n",
       "      <td>Coronavirus (COVID-19) Megathread - News and U...</td>\n",
       "      <td>###[Covid-19 Fundraisers &amp; Donation Links](htt...</td>\n",
       "      <td>https://www.reddit.com/r/india/comments/fqqdsg...</td>\n",
       "      <td>None</td>\n",
       "      <td>self.india</td>\n",
       "      <td>0.0</td>\n",
       "      <td>0.0</td>\n",
       "      <td>10949.0</td>\n",
       "      <td>2.0</td>\n",
       "      <td>416.0</td>\n",
       "      <td>0.97</td>\n",
       "      <td>None</td>\n",
       "    </tr>\n",
       "    <tr>\n",
       "      <th>1</th>\n",
       "      <td>[I do t think we are intentionally under repor...</td>\n",
       "      <td>Politics</td>\n",
       "      <td>g17fnr</td>\n",
       "      <td>Is India underreporting the coronavirus outbre...</td>\n",
       "      <td></td>\n",
       "      <td>https://www.youtube.com/watch?v=JIhNKZOHJ74</td>\n",
       "      <td>None</td>\n",
       "      <td>youtube.com</td>\n",
       "      <td>0.0</td>\n",
       "      <td>0.0</td>\n",
       "      <td>136.0</td>\n",
       "      <td>0.0</td>\n",
       "      <td>207.0</td>\n",
       "      <td>0.79</td>\n",
       "      <td>None</td>\n",
       "    </tr>\n",
       "    <tr>\n",
       "      <th>2</th>\n",
       "      <td>[reminded me of that doggo meme, Is this true?...</td>\n",
       "      <td>Non-Political</td>\n",
       "      <td>g1owee</td>\n",
       "      <td>Storm in Assam, Gauhati Today</td>\n",
       "      <td></td>\n",
       "      <td>https://v.redd.it/uyyrvk4cdys41</td>\n",
       "      <td>None</td>\n",
       "      <td>v.redd.it</td>\n",
       "      <td>0.0</td>\n",
       "      <td>0.0</td>\n",
       "      <td>108.0</td>\n",
       "      <td>0.0</td>\n",
       "      <td>1950.0</td>\n",
       "      <td>0.99</td>\n",
       "      <td>None</td>\n",
       "    </tr>\n",
       "    <tr>\n",
       "      <th>3</th>\n",
       "      <td>[This is very strange since all other porn sub...</td>\n",
       "      <td>Non-Political</td>\n",
       "      <td>g1ll83</td>\n",
       "      <td>/r/IndiansGoneWild is apparently blocked in In...</td>\n",
       "      <td>Opening /r/IndiansGoneWild (NSFW) today gives ...</td>\n",
       "      <td>https://www.reddit.com/r/india/comments/g1ll83...</td>\n",
       "      <td>None</td>\n",
       "      <td>self.india</td>\n",
       "      <td>0.0</td>\n",
       "      <td>0.0</td>\n",
       "      <td>483.0</td>\n",
       "      <td>0.0</td>\n",
       "      <td>1119.0</td>\n",
       "      <td>0.96</td>\n",
       "      <td>None</td>\n",
       "    </tr>\n",
       "    <tr>\n",
       "      <th>4</th>\n",
       "      <td>[WTF how much rape goes on in Delhi?!?!, Repor...</td>\n",
       "      <td>Non-Political</td>\n",
       "      <td>g1jwxm</td>\n",
       "      <td>83% drop in rape cases in Delhi during lockdown</td>\n",
       "      <td></td>\n",
       "      <td>https://www.thehindu.com/news/cities/Delhi/83-...</td>\n",
       "      <td>None</td>\n",
       "      <td>thehindu.com</td>\n",
       "      <td>0.0</td>\n",
       "      <td>0.0</td>\n",
       "      <td>119.0</td>\n",
       "      <td>0.0</td>\n",
       "      <td>1081.0</td>\n",
       "      <td>0.97</td>\n",
       "      <td>None</td>\n",
       "    </tr>\n",
       "  </tbody>\n",
       "</table>\n",
       "</div>"
      ],
      "text/plain": [
       "                                            comments          flair      id  \\\n",
       "0  [###[Covid-19 Fundraisers & Donation Links](ht...    Coronavirus  fqqdsg   \n",
       "1  [I do t think we are intentionally under repor...       Politics  g17fnr   \n",
       "2  [reminded me of that doggo meme, Is this true?...  Non-Political  g1owee   \n",
       "3  [This is very strange since all other porn sub...  Non-Political  g1ll83   \n",
       "4  [WTF how much rape goes on in Delhi?!?!, Repor...  Non-Political  g1jwxm   \n",
       "\n",
       "                                               title  \\\n",
       "0  Coronavirus (COVID-19) Megathread - News and U...   \n",
       "1  Is India underreporting the coronavirus outbre...   \n",
       "2                      Storm in Assam, Gauhati Today   \n",
       "3  /r/IndiansGoneWild is apparently blocked in In...   \n",
       "4    83% drop in rape cases in Delhi during lockdown   \n",
       "\n",
       "                                          title_text  \\\n",
       "0  ###[Covid-19 Fundraisers & Donation Links](htt...   \n",
       "1                                                      \n",
       "2                                                      \n",
       "3  Opening /r/IndiansGoneWild (NSFW) today gives ...   \n",
       "4                                                      \n",
       "\n",
       "                                                 url category        domain  \\\n",
       "0  https://www.reddit.com/r/india/comments/fqqdsg...     None    self.india   \n",
       "1        https://www.youtube.com/watch?v=JIhNKZOHJ74     None   youtube.com   \n",
       "2                    https://v.redd.it/uyyrvk4cdys41     None     v.redd.it   \n",
       "3  https://www.reddit.com/r/india/comments/g1ll83...     None    self.india   \n",
       "4  https://www.thehindu.com/news/cities/Delhi/83-...     None  thehindu.com   \n",
       "\n",
       "   down_count  is_orig   n_comm  total_awards  up_count  upvote_rat views  \n",
       "0         0.0      0.0  10949.0           2.0     416.0        0.97  None  \n",
       "1         0.0      0.0    136.0           0.0     207.0        0.79  None  \n",
       "2         0.0      0.0    108.0           0.0    1950.0        0.99  None  \n",
       "3         0.0      0.0    483.0           0.0    1119.0        0.96  None  \n",
       "4         0.0      0.0    119.0           0.0    1081.0        0.97  None  "
      ]
     },
     "execution_count": 130,
     "metadata": {},
     "output_type": "execute_result"
    }
   ],
   "source": [
    "complete_data.head()"
   ]
  },
  {
   "cell_type": "code",
   "execution_count": 131,
   "metadata": {},
   "outputs": [
    {
     "data": {
      "text/plain": [
       "(388, 15)"
      ]
     },
     "execution_count": 131,
     "metadata": {},
     "output_type": "execute_result"
    }
   ],
   "source": [
    "complete_data.shape"
   ]
  },
  {
   "cell_type": "code",
   "execution_count": 133,
   "metadata": {},
   "outputs": [],
   "source": [
    "complete_data.to_excel('compl_reddit_india_data.xlsx', index=False)"
   ]
  }
 ],
 "metadata": {
  "kernelspec": {
   "display_name": "Python [conda env:npy3]",
   "language": "python",
   "name": "conda-env-npy3-py"
  },
  "language_info": {
   "codemirror_mode": {
    "name": "ipython",
    "version": 3
   },
   "file_extension": ".py",
   "mimetype": "text/x-python",
   "name": "python",
   "nbconvert_exporter": "python",
   "pygments_lexer": "ipython3",
   "version": "3.6.2"
  }
 },
 "nbformat": 4,
 "nbformat_minor": 2
}
